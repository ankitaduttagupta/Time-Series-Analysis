{
 "cells": [
  {
   "cell_type": "markdown",
   "metadata": {},
   "source": [
    "## multi variate time series analysis: \n",
    "has more than one time dependent variable\n",
    "\n",
    "each variable not only depends on past vslues but some dependency on other variables"
   ]
  },
  {
   "cell_type": "code",
   "execution_count": 224,
   "metadata": {},
   "outputs": [],
   "source": [
    "# import data and libraries\n",
    "import os\n",
    "import pandas as pd\n",
    "import matplotlib.pyplot as plt \n",
    "import matplotlib.font_manager\n",
    "%matplotlib inline\n",
    "import seaborn as sns\n",
    "from pyod.models.abod import ABOD\n",
    "from pyod.models.cblof import CBLOF\n",
    "from pyod.models.feature_bagging import FeatureBagging\n",
    "from pyod.models.hbos import HBOS\n",
    "from pyod.models.iforest import IForest\n",
    "from pyod.models.knn import KNN\n",
    "from pyod.models.lof import LOF\n",
    "from scipy import stats\n",
    "from sklearn.preprocessing import MinMaxScaler\n",
    "df=pd.read_csv('anomaly_detection_data.csv')\n",
    "import numpy as np\n",
    "import warnings\n",
    "warnings.simplefilter('ignore')\n",
    "from ipywidgets import widgets"
   ]
  },
  {
   "cell_type": "code",
   "execution_count": 225,
   "metadata": {},
   "outputs": [
    {
     "data": {
      "text/html": [
       "<div>\n",
       "<style scoped>\n",
       "    .dataframe tbody tr th:only-of-type {\n",
       "        vertical-align: middle;\n",
       "    }\n",
       "\n",
       "    .dataframe tbody tr th {\n",
       "        vertical-align: top;\n",
       "    }\n",
       "\n",
       "    .dataframe thead th {\n",
       "        text-align: right;\n",
       "    }\n",
       "</style>\n",
       "<table border=\"1\" class=\"dataframe\">\n",
       "  <thead>\n",
       "    <tr style=\"text-align: right;\">\n",
       "      <th></th>\n",
       "      <th>date</th>\n",
       "      <th>time</th>\n",
       "      <th>timestamp</th>\n",
       "      <th>input current</th>\n",
       "      <th>input current (Min)</th>\n",
       "      <th>input current (Max)</th>\n",
       "      <th>input current (StdDev)</th>\n",
       "      <th>current data 0x1</th>\n",
       "      <th>current data 0x2</th>\n",
       "      <th>current data 0x3</th>\n",
       "      <th>...</th>\n",
       "      <th>Engineering Sensors 13</th>\n",
       "      <th>motor fault counters 1</th>\n",
       "      <th>motor fault counters 2</th>\n",
       "      <th>motor fault counters 3</th>\n",
       "      <th>motor fault counters 4</th>\n",
       "      <th>motor fault counters 5</th>\n",
       "      <th>motor fault counters 6</th>\n",
       "      <th>motor fault counters 7</th>\n",
       "      <th>motor fault counters 8</th>\n",
       "      <th>datetime</th>\n",
       "    </tr>\n",
       "  </thead>\n",
       "  <tbody>\n",
       "    <tr>\n",
       "      <th>41287</th>\n",
       "      <td>21-09-2014</td>\n",
       "      <td>12.39.19</td>\n",
       "      <td>21-09-2014 12.39</td>\n",
       "      <td>1.14</td>\n",
       "      <td>1.01</td>\n",
       "      <td>1.32</td>\n",
       "      <td>0.09</td>\n",
       "      <td>0.34</td>\n",
       "      <td>0.31</td>\n",
       "      <td>0.0</td>\n",
       "      <td>...</td>\n",
       "      <td>33.9</td>\n",
       "      <td>0</td>\n",
       "      <td>0</td>\n",
       "      <td>0</td>\n",
       "      <td>0</td>\n",
       "      <td>0</td>\n",
       "      <td>0</td>\n",
       "      <td>0</td>\n",
       "      <td>0</td>\n",
       "      <td>2014-09-21 12:39:19</td>\n",
       "    </tr>\n",
       "    <tr>\n",
       "      <th>41288</th>\n",
       "      <td>21-09-2014</td>\n",
       "      <td>12.39.29</td>\n",
       "      <td>21-09-2014 12.39</td>\n",
       "      <td>1.16</td>\n",
       "      <td>1.01</td>\n",
       "      <td>1.27</td>\n",
       "      <td>0.08</td>\n",
       "      <td>0.37</td>\n",
       "      <td>0.30</td>\n",
       "      <td>0.0</td>\n",
       "      <td>...</td>\n",
       "      <td>33.9</td>\n",
       "      <td>0</td>\n",
       "      <td>0</td>\n",
       "      <td>0</td>\n",
       "      <td>0</td>\n",
       "      <td>0</td>\n",
       "      <td>0</td>\n",
       "      <td>0</td>\n",
       "      <td>0</td>\n",
       "      <td>2014-09-21 12:39:29</td>\n",
       "    </tr>\n",
       "    <tr>\n",
       "      <th>41289</th>\n",
       "      <td>21-09-2014</td>\n",
       "      <td>12.39.39</td>\n",
       "      <td>21-09-2014 12.39</td>\n",
       "      <td>1.15</td>\n",
       "      <td>0.96</td>\n",
       "      <td>1.25</td>\n",
       "      <td>0.09</td>\n",
       "      <td>0.36</td>\n",
       "      <td>0.31</td>\n",
       "      <td>0.0</td>\n",
       "      <td>...</td>\n",
       "      <td>33.9</td>\n",
       "      <td>0</td>\n",
       "      <td>0</td>\n",
       "      <td>0</td>\n",
       "      <td>0</td>\n",
       "      <td>0</td>\n",
       "      <td>0</td>\n",
       "      <td>0</td>\n",
       "      <td>0</td>\n",
       "      <td>2014-09-21 12:39:39</td>\n",
       "    </tr>\n",
       "    <tr>\n",
       "      <th>41290</th>\n",
       "      <td>21-09-2014</td>\n",
       "      <td>12.39.49</td>\n",
       "      <td>21-09-2014 12.39</td>\n",
       "      <td>1.24</td>\n",
       "      <td>1.09</td>\n",
       "      <td>1.48</td>\n",
       "      <td>0.12</td>\n",
       "      <td>0.40</td>\n",
       "      <td>0.33</td>\n",
       "      <td>0.0</td>\n",
       "      <td>...</td>\n",
       "      <td>33.9</td>\n",
       "      <td>0</td>\n",
       "      <td>0</td>\n",
       "      <td>0</td>\n",
       "      <td>0</td>\n",
       "      <td>0</td>\n",
       "      <td>0</td>\n",
       "      <td>0</td>\n",
       "      <td>0</td>\n",
       "      <td>2014-09-21 12:39:49</td>\n",
       "    </tr>\n",
       "    <tr>\n",
       "      <th>41291</th>\n",
       "      <td>21-09-2014</td>\n",
       "      <td>12.39.59</td>\n",
       "      <td>21-09-2014 12.39</td>\n",
       "      <td>1.16</td>\n",
       "      <td>0.91</td>\n",
       "      <td>1.48</td>\n",
       "      <td>0.15</td>\n",
       "      <td>0.36</td>\n",
       "      <td>0.28</td>\n",
       "      <td>0.0</td>\n",
       "      <td>...</td>\n",
       "      <td>33.9</td>\n",
       "      <td>0</td>\n",
       "      <td>0</td>\n",
       "      <td>0</td>\n",
       "      <td>0</td>\n",
       "      <td>0</td>\n",
       "      <td>0</td>\n",
       "      <td>0</td>\n",
       "      <td>0</td>\n",
       "      <td>2014-09-21 12:39:59</td>\n",
       "    </tr>\n",
       "  </tbody>\n",
       "</table>\n",
       "<p>5 rows × 85 columns</p>\n",
       "</div>"
      ],
      "text/plain": [
       "             date      time         timestamp  input current  \\\n",
       "41287  21-09-2014  12.39.19  21-09-2014 12.39           1.14   \n",
       "41288  21-09-2014  12.39.29  21-09-2014 12.39           1.16   \n",
       "41289  21-09-2014  12.39.39  21-09-2014 12.39           1.15   \n",
       "41290  21-09-2014  12.39.49  21-09-2014 12.39           1.24   \n",
       "41291  21-09-2014  12.39.59  21-09-2014 12.39           1.16   \n",
       "\n",
       "       input current (Min)  input current (Max)  input current (StdDev)  \\\n",
       "41287                 1.01                 1.32                    0.09   \n",
       "41288                 1.01                 1.27                    0.08   \n",
       "41289                 0.96                 1.25                    0.09   \n",
       "41290                 1.09                 1.48                    0.12   \n",
       "41291                 0.91                 1.48                    0.15   \n",
       "\n",
       "       current data 0x1  current data 0x2  current data 0x3  ...  \\\n",
       "41287              0.34              0.31               0.0  ...   \n",
       "41288              0.37              0.30               0.0  ...   \n",
       "41289              0.36              0.31               0.0  ...   \n",
       "41290              0.40              0.33               0.0  ...   \n",
       "41291              0.36              0.28               0.0  ...   \n",
       "\n",
       "       Engineering Sensors 13  motor fault counters 1  motor fault counters 2  \\\n",
       "41287                    33.9                       0                       0   \n",
       "41288                    33.9                       0                       0   \n",
       "41289                    33.9                       0                       0   \n",
       "41290                    33.9                       0                       0   \n",
       "41291                    33.9                       0                       0   \n",
       "\n",
       "       motor fault counters 3  motor fault counters 4  motor fault counters 5  \\\n",
       "41287                       0                       0                       0   \n",
       "41288                       0                       0                       0   \n",
       "41289                       0                       0                       0   \n",
       "41290                       0                       0                       0   \n",
       "41291                       0                       0                       0   \n",
       "\n",
       "       motor fault counters 6  motor fault counters 7  motor fault counters 8  \\\n",
       "41287                       0                       0                       0   \n",
       "41288                       0                       0                       0   \n",
       "41289                       0                       0                       0   \n",
       "41290                       0                       0                       0   \n",
       "41291                       0                       0                       0   \n",
       "\n",
       "                 datetime  \n",
       "41287 2014-09-21 12:39:19  \n",
       "41288 2014-09-21 12:39:29  \n",
       "41289 2014-09-21 12:39:39  \n",
       "41290 2014-09-21 12:39:49  \n",
       "41291 2014-09-21 12:39:59  \n",
       "\n",
       "[5 rows x 85 columns]"
      ]
     },
     "execution_count": 225,
     "metadata": {},
     "output_type": "execute_result"
    }
   ],
   "source": [
    "df['datetime']=df['date']+' '+df['time']\n",
    "# df.isnull().sum()\n",
    "# df.duplicated().sum()\n",
    "import re\n",
    "\n",
    "df['datetime']=df['datetime'].apply(lambda i: re.sub('\\.',':',i))\n",
    "df['datetime']=pd.to_datetime(df['datetime'])\n",
    "df=df.sort_values(by='datetime')\n",
    "df.head()"
   ]
  },
  {
   "cell_type": "code",
   "execution_count": 226,
   "metadata": {
    "scrolled": true
   },
   "outputs": [],
   "source": [
    "df.drop(['date','time','timestamp'], axis=1, inplace=True)\n",
    "\n",
    "\n",
    "\n",
    "# df.set_index('datetime',inplace=True)\n",
    "# df.reset_index(inplace=True)\n"
   ]
  },
  {
   "cell_type": "code",
   "execution_count": 227,
   "metadata": {},
   "outputs": [
    {
     "data": {
      "text/html": [
       "<div>\n",
       "<style scoped>\n",
       "    .dataframe tbody tr th:only-of-type {\n",
       "        vertical-align: middle;\n",
       "    }\n",
       "\n",
       "    .dataframe tbody tr th {\n",
       "        vertical-align: top;\n",
       "    }\n",
       "\n",
       "    .dataframe thead th {\n",
       "        text-align: right;\n",
       "    }\n",
       "</style>\n",
       "<table border=\"1\" class=\"dataframe\">\n",
       "  <thead>\n",
       "    <tr style=\"text-align: right;\">\n",
       "      <th></th>\n",
       "      <th>input current</th>\n",
       "      <th>input current (Min)</th>\n",
       "      <th>input current (Max)</th>\n",
       "      <th>input current (StdDev)</th>\n",
       "      <th>current data 0x1</th>\n",
       "      <th>current data 0x2</th>\n",
       "      <th>current data 0x3</th>\n",
       "      <th>current data 0x4</th>\n",
       "      <th>current data 0x5</th>\n",
       "      <th>current data 0x6</th>\n",
       "      <th>...</th>\n",
       "      <th>Engineering Sensors 13</th>\n",
       "      <th>motor fault counters 1</th>\n",
       "      <th>motor fault counters 2</th>\n",
       "      <th>motor fault counters 3</th>\n",
       "      <th>motor fault counters 4</th>\n",
       "      <th>motor fault counters 5</th>\n",
       "      <th>motor fault counters 6</th>\n",
       "      <th>motor fault counters 7</th>\n",
       "      <th>motor fault counters 8</th>\n",
       "      <th>datetime</th>\n",
       "    </tr>\n",
       "  </thead>\n",
       "  <tbody>\n",
       "    <tr>\n",
       "      <th>41287</th>\n",
       "      <td>1.14</td>\n",
       "      <td>1.01</td>\n",
       "      <td>1.32</td>\n",
       "      <td>0.09</td>\n",
       "      <td>0.34</td>\n",
       "      <td>0.31</td>\n",
       "      <td>0.0</td>\n",
       "      <td>0.06</td>\n",
       "      <td>0.59</td>\n",
       "      <td>0</td>\n",
       "      <td>...</td>\n",
       "      <td>33.9</td>\n",
       "      <td>0</td>\n",
       "      <td>0</td>\n",
       "      <td>0</td>\n",
       "      <td>0</td>\n",
       "      <td>0</td>\n",
       "      <td>0</td>\n",
       "      <td>0</td>\n",
       "      <td>0</td>\n",
       "      <td>2014-09-21 12:39:19</td>\n",
       "    </tr>\n",
       "    <tr>\n",
       "      <th>41288</th>\n",
       "      <td>1.16</td>\n",
       "      <td>1.01</td>\n",
       "      <td>1.27</td>\n",
       "      <td>0.08</td>\n",
       "      <td>0.37</td>\n",
       "      <td>0.30</td>\n",
       "      <td>0.0</td>\n",
       "      <td>0.06</td>\n",
       "      <td>0.61</td>\n",
       "      <td>0</td>\n",
       "      <td>...</td>\n",
       "      <td>33.9</td>\n",
       "      <td>0</td>\n",
       "      <td>0</td>\n",
       "      <td>0</td>\n",
       "      <td>0</td>\n",
       "      <td>0</td>\n",
       "      <td>0</td>\n",
       "      <td>0</td>\n",
       "      <td>0</td>\n",
       "      <td>2014-09-21 12:39:29</td>\n",
       "    </tr>\n",
       "    <tr>\n",
       "      <th>41289</th>\n",
       "      <td>1.15</td>\n",
       "      <td>0.96</td>\n",
       "      <td>1.25</td>\n",
       "      <td>0.09</td>\n",
       "      <td>0.36</td>\n",
       "      <td>0.31</td>\n",
       "      <td>0.0</td>\n",
       "      <td>0.06</td>\n",
       "      <td>0.59</td>\n",
       "      <td>0</td>\n",
       "      <td>...</td>\n",
       "      <td>33.9</td>\n",
       "      <td>0</td>\n",
       "      <td>0</td>\n",
       "      <td>0</td>\n",
       "      <td>0</td>\n",
       "      <td>0</td>\n",
       "      <td>0</td>\n",
       "      <td>0</td>\n",
       "      <td>0</td>\n",
       "      <td>2014-09-21 12:39:39</td>\n",
       "    </tr>\n",
       "    <tr>\n",
       "      <th>41290</th>\n",
       "      <td>1.24</td>\n",
       "      <td>1.09</td>\n",
       "      <td>1.48</td>\n",
       "      <td>0.12</td>\n",
       "      <td>0.40</td>\n",
       "      <td>0.33</td>\n",
       "      <td>0.0</td>\n",
       "      <td>0.07</td>\n",
       "      <td>0.71</td>\n",
       "      <td>0</td>\n",
       "      <td>...</td>\n",
       "      <td>33.9</td>\n",
       "      <td>0</td>\n",
       "      <td>0</td>\n",
       "      <td>0</td>\n",
       "      <td>0</td>\n",
       "      <td>0</td>\n",
       "      <td>0</td>\n",
       "      <td>0</td>\n",
       "      <td>0</td>\n",
       "      <td>2014-09-21 12:39:49</td>\n",
       "    </tr>\n",
       "    <tr>\n",
       "      <th>41291</th>\n",
       "      <td>1.16</td>\n",
       "      <td>0.91</td>\n",
       "      <td>1.48</td>\n",
       "      <td>0.15</td>\n",
       "      <td>0.36</td>\n",
       "      <td>0.28</td>\n",
       "      <td>0.0</td>\n",
       "      <td>0.05</td>\n",
       "      <td>0.62</td>\n",
       "      <td>0</td>\n",
       "      <td>...</td>\n",
       "      <td>33.9</td>\n",
       "      <td>0</td>\n",
       "      <td>0</td>\n",
       "      <td>0</td>\n",
       "      <td>0</td>\n",
       "      <td>0</td>\n",
       "      <td>0</td>\n",
       "      <td>0</td>\n",
       "      <td>0</td>\n",
       "      <td>2014-09-21 12:39:59</td>\n",
       "    </tr>\n",
       "  </tbody>\n",
       "</table>\n",
       "<p>5 rows × 82 columns</p>\n",
       "</div>"
      ],
      "text/plain": [
       "       input current  input current (Min)  input current (Max)  \\\n",
       "41287           1.14                 1.01                 1.32   \n",
       "41288           1.16                 1.01                 1.27   \n",
       "41289           1.15                 0.96                 1.25   \n",
       "41290           1.24                 1.09                 1.48   \n",
       "41291           1.16                 0.91                 1.48   \n",
       "\n",
       "       input current (StdDev)  current data 0x1  current data 0x2  \\\n",
       "41287                    0.09              0.34              0.31   \n",
       "41288                    0.08              0.37              0.30   \n",
       "41289                    0.09              0.36              0.31   \n",
       "41290                    0.12              0.40              0.33   \n",
       "41291                    0.15              0.36              0.28   \n",
       "\n",
       "       current data 0x3  current data 0x4  current data 0x5  current data 0x6  \\\n",
       "41287               0.0              0.06              0.59                 0   \n",
       "41288               0.0              0.06              0.61                 0   \n",
       "41289               0.0              0.06              0.59                 0   \n",
       "41290               0.0              0.07              0.71                 0   \n",
       "41291               0.0              0.05              0.62                 0   \n",
       "\n",
       "       ...  Engineering Sensors 13  motor fault counters 1  \\\n",
       "41287  ...                    33.9                       0   \n",
       "41288  ...                    33.9                       0   \n",
       "41289  ...                    33.9                       0   \n",
       "41290  ...                    33.9                       0   \n",
       "41291  ...                    33.9                       0   \n",
       "\n",
       "       motor fault counters 2  motor fault counters 3  motor fault counters 4  \\\n",
       "41287                       0                       0                       0   \n",
       "41288                       0                       0                       0   \n",
       "41289                       0                       0                       0   \n",
       "41290                       0                       0                       0   \n",
       "41291                       0                       0                       0   \n",
       "\n",
       "       motor fault counters 5  motor fault counters 6  motor fault counters 7  \\\n",
       "41287                       0                       0                       0   \n",
       "41288                       0                       0                       0   \n",
       "41289                       0                       0                       0   \n",
       "41290                       0                       0                       0   \n",
       "41291                       0                       0                       0   \n",
       "\n",
       "       motor fault counters 8            datetime  \n",
       "41287                       0 2014-09-21 12:39:19  \n",
       "41288                       0 2014-09-21 12:39:29  \n",
       "41289                       0 2014-09-21 12:39:39  \n",
       "41290                       0 2014-09-21 12:39:49  \n",
       "41291                       0 2014-09-21 12:39:59  \n",
       "\n",
       "[5 rows x 82 columns]"
      ]
     },
     "execution_count": 227,
     "metadata": {},
     "output_type": "execute_result"
    }
   ],
   "source": [
    "df.head()"
   ]
  },
  {
   "cell_type": "code",
   "execution_count": 228,
   "metadata": {},
   "outputs": [],
   "source": [
    "\n",
    "df1=pd.DataFrame(df[['Engineering Sensors 1',\n",
    "       'Engineering Sensors 2', 'Engineering Sensors 3',\n",
    "       'Engineering Sensors 4', 'Engineering Sensors 5',\n",
    "       'Engineering Sensors 6', 'Engineering Sensors 7',\n",
    "       'Engineering Sensors 8', 'Engineering Sensors 9',\n",
    "       'Engineering Sensors 10', 'Engineering Sensors 11',\n",
    "       'Engineering Sensors 12', 'Engineering Sensors 13']],index=df.index)\n"
   ]
  },
  {
   "cell_type": "code",
   "execution_count": 29,
   "metadata": {},
   "outputs": [
    {
     "name": "stdout",
     "output_type": "stream",
     "text": [
      "(31552, 13) (10518, 13)\n"
     ]
    }
   ],
   "source": [
    "train_size=int(len(df1)*0.75)\n",
    "test_size=len(df1)-train_size\n",
    "train=df1.iloc[0:train_size]\n",
    "test=df1.iloc[train_size:len(df1)]\n",
    "print(train.shape,test.shape)"
   ]
  },
  {
   "cell_type": "code",
   "execution_count": null,
   "metadata": {},
   "outputs": [],
   "source": []
  },
  {
   "cell_type": "markdown",
   "metadata": {},
   "source": [
    "##  OUTLIER DETECTION USING ISOLATION FORESTS"
   ]
  },
  {
   "cell_type": "code",
   "execution_count": 229,
   "metadata": {},
   "outputs": [],
   "source": [
    "from sklearn.ensemble import IsolationForest\n",
    "from sklearn.preprocessing import StandardScaler\n",
    "from statsmodels import *"
   ]
  },
  {
   "cell_type": "code",
   "execution_count": 230,
   "metadata": {},
   "outputs": [],
   "source": [
    "min_max_scaler = StandardScaler()\n",
    "np_scaled = min_max_scaler.fit_transform(df1)\n",
    "scaled_time_series = pd.DataFrame(np_scaled)\n",
    "iff=IsolationForest(n_estimators=100,max_samples='auto',max_features=scaled_time_series.shape[1],n_jobs=-1,random_state=42,verbose=0)\n",
    "iff.fit(scaled_time_series)\n",
    "out_pred=iff.predict(scaled_time_series)\n",
    "#Generate column for Isolation Forest-detected anomalies\n",
    "\n",
    "scaled_time_series['Isolation_Forest_Anomaly'] = out_pred\n",
    "scaled_time_series['Isolation_Forest_Anomaly'] = scaled_time_series['Isolation_Forest_Anomaly'].map( {1: False, -1: True} )\n",
    "    "
   ]
  },
  {
   "cell_type": "code",
   "execution_count": 231,
   "metadata": {},
   "outputs": [
    {
     "data": {
      "text/html": [
       "<div>\n",
       "<style scoped>\n",
       "    .dataframe tbody tr th:only-of-type {\n",
       "        vertical-align: middle;\n",
       "    }\n",
       "\n",
       "    .dataframe tbody tr th {\n",
       "        vertical-align: top;\n",
       "    }\n",
       "\n",
       "    .dataframe thead th {\n",
       "        text-align: right;\n",
       "    }\n",
       "</style>\n",
       "<table border=\"1\" class=\"dataframe\">\n",
       "  <thead>\n",
       "    <tr style=\"text-align: right;\">\n",
       "      <th></th>\n",
       "      <th>0</th>\n",
       "      <th>1</th>\n",
       "      <th>2</th>\n",
       "      <th>3</th>\n",
       "      <th>4</th>\n",
       "      <th>5</th>\n",
       "      <th>6</th>\n",
       "      <th>7</th>\n",
       "      <th>8</th>\n",
       "      <th>9</th>\n",
       "      <th>10</th>\n",
       "      <th>11</th>\n",
       "      <th>12</th>\n",
       "      <th>Isolation_Forest_Anomaly</th>\n",
       "    </tr>\n",
       "  </thead>\n",
       "  <tbody>\n",
       "    <tr>\n",
       "      <th>0</th>\n",
       "      <td>6.725695</td>\n",
       "      <td>6.771687</td>\n",
       "      <td>-4.487962</td>\n",
       "      <td>-1.614167</td>\n",
       "      <td>0.414718</td>\n",
       "      <td>-0.672355</td>\n",
       "      <td>0.199289</td>\n",
       "      <td>-3.565798</td>\n",
       "      <td>-2.053981</td>\n",
       "      <td>-6.511352</td>\n",
       "      <td>-0.309213</td>\n",
       "      <td>-2.252637</td>\n",
       "      <td>-0.065426</td>\n",
       "      <td>True</td>\n",
       "    </tr>\n",
       "    <tr>\n",
       "      <th>1</th>\n",
       "      <td>6.725695</td>\n",
       "      <td>6.771687</td>\n",
       "      <td>-4.046623</td>\n",
       "      <td>-0.683583</td>\n",
       "      <td>0.186871</td>\n",
       "      <td>0.433429</td>\n",
       "      <td>0.199289</td>\n",
       "      <td>-2.200197</td>\n",
       "      <td>-2.053981</td>\n",
       "      <td>-6.511352</td>\n",
       "      <td>-0.579331</td>\n",
       "      <td>-2.252637</td>\n",
       "      <td>-0.065426</td>\n",
       "      <td>True</td>\n",
       "    </tr>\n",
       "  </tbody>\n",
       "</table>\n",
       "</div>"
      ],
      "text/plain": [
       "          0         1         2         3         4         5         6  \\\n",
       "0  6.725695  6.771687 -4.487962 -1.614167  0.414718 -0.672355  0.199289   \n",
       "1  6.725695  6.771687 -4.046623 -0.683583  0.186871  0.433429  0.199289   \n",
       "\n",
       "          7         8         9        10        11        12  \\\n",
       "0 -3.565798 -2.053981 -6.511352 -0.309213 -2.252637 -0.065426   \n",
       "1 -2.200197 -2.053981 -6.511352 -0.579331 -2.252637 -0.065426   \n",
       "\n",
       "   Isolation_Forest_Anomaly  \n",
       "0                      True  \n",
       "1                      True  "
      ]
     },
     "execution_count": 231,
     "metadata": {},
     "output_type": "execute_result"
    }
   ],
   "source": [
    "scaled_time_series.head(2)"
   ]
  },
  {
   "cell_type": "code",
   "execution_count": 232,
   "metadata": {},
   "outputs": [
    {
     "data": {
      "text/plain": [
       "False    39937\n",
       "True      2133\n",
       "Name: Isolation_Forest_Anomaly, dtype: int64"
      ]
     },
     "execution_count": 232,
     "metadata": {},
     "output_type": "execute_result"
    }
   ],
   "source": [
    "scaled_time_series['Isolation_Forest_Anomaly'].value_counts()"
   ]
  },
  {
   "cell_type": "markdown",
   "metadata": {},
   "source": [
    "## OUTLIER DETECTION USING OCSVM"
   ]
  },
  {
   "cell_type": "code",
   "execution_count": 233,
   "metadata": {},
   "outputs": [],
   "source": [
    "from sklearn.svm import OneClassSVM"
   ]
  },
  {
   "cell_type": "code",
   "execution_count": 234,
   "metadata": {},
   "outputs": [],
   "source": [
    "outliers_fraction = 0.05 \n",
    "nu_estimate = 0.95 * outliers_fraction + 0.05\n",
    "model=OneClassSVM(nu=nu_estimate, kernel=\"rbf\", gamma=0.01)\n",
    "model.fit(scaled_time_series)\n",
    "#Create a column for the anomaly\n",
    "pred=model.predict(scaled_time_series)\n"
   ]
  },
  {
   "cell_type": "code",
   "execution_count": 236,
   "metadata": {},
   "outputs": [],
   "source": [
    "scaled_time_series['OCSVM_Anomaly'] = pred\n",
    "scaled_time_series['OCSVM_Anomaly'] = scaled_time_series['OCSVM_Anomaly'].map( {1: False, -1: True} )\n",
    "    "
   ]
  },
  {
   "cell_type": "code",
   "execution_count": null,
   "metadata": {},
   "outputs": [],
   "source": []
  },
  {
   "cell_type": "code",
   "execution_count": 350,
   "metadata": {},
   "outputs": [
    {
     "data": {
      "text/html": [
       "<div>\n",
       "<style scoped>\n",
       "    .dataframe tbody tr th:only-of-type {\n",
       "        vertical-align: middle;\n",
       "    }\n",
       "\n",
       "    .dataframe tbody tr th {\n",
       "        vertical-align: top;\n",
       "    }\n",
       "\n",
       "    .dataframe thead th {\n",
       "        text-align: right;\n",
       "    }\n",
       "</style>\n",
       "<table border=\"1\" class=\"dataframe\">\n",
       "  <thead>\n",
       "    <tr style=\"text-align: right;\">\n",
       "      <th></th>\n",
       "      <th>0</th>\n",
       "      <th>1</th>\n",
       "      <th>2</th>\n",
       "      <th>3</th>\n",
       "      <th>4</th>\n",
       "      <th>5</th>\n",
       "      <th>6</th>\n",
       "      <th>7</th>\n",
       "      <th>8</th>\n",
       "      <th>9</th>\n",
       "      <th>10</th>\n",
       "      <th>11</th>\n",
       "      <th>12</th>\n",
       "      <th>Isolation_Forest_Anomaly</th>\n",
       "      <th>OCSVM_Anomaly</th>\n",
       "    </tr>\n",
       "  </thead>\n",
       "  <tbody>\n",
       "    <tr>\n",
       "      <th>0</th>\n",
       "      <td>6.725695</td>\n",
       "      <td>6.771687</td>\n",
       "      <td>-4.487962</td>\n",
       "      <td>-1.614167</td>\n",
       "      <td>0.414718</td>\n",
       "      <td>-0.672355</td>\n",
       "      <td>0.199289</td>\n",
       "      <td>-3.565798</td>\n",
       "      <td>-2.053981</td>\n",
       "      <td>-6.511352</td>\n",
       "      <td>-0.309213</td>\n",
       "      <td>-2.252637</td>\n",
       "      <td>-0.065426</td>\n",
       "      <td>True</td>\n",
       "      <td>True</td>\n",
       "    </tr>\n",
       "    <tr>\n",
       "      <th>1</th>\n",
       "      <td>6.725695</td>\n",
       "      <td>6.771687</td>\n",
       "      <td>-4.046623</td>\n",
       "      <td>-0.683583</td>\n",
       "      <td>0.186871</td>\n",
       "      <td>0.433429</td>\n",
       "      <td>0.199289</td>\n",
       "      <td>-2.200197</td>\n",
       "      <td>-2.053981</td>\n",
       "      <td>-6.511352</td>\n",
       "      <td>-0.579331</td>\n",
       "      <td>-2.252637</td>\n",
       "      <td>-0.065426</td>\n",
       "      <td>True</td>\n",
       "      <td>True</td>\n",
       "    </tr>\n",
       "    <tr>\n",
       "      <th>2</th>\n",
       "      <td>6.725695</td>\n",
       "      <td>6.771687</td>\n",
       "      <td>-4.487962</td>\n",
       "      <td>0.247002</td>\n",
       "      <td>0.642566</td>\n",
       "      <td>0.433429</td>\n",
       "      <td>1.050596</td>\n",
       "      <td>-2.200197</td>\n",
       "      <td>-2.053981</td>\n",
       "      <td>-6.511352</td>\n",
       "      <td>0.231022</td>\n",
       "      <td>-2.252637</td>\n",
       "      <td>-0.065426</td>\n",
       "      <td>True</td>\n",
       "      <td>True</td>\n",
       "    </tr>\n",
       "    <tr>\n",
       "      <th>3</th>\n",
       "      <td>6.571718</td>\n",
       "      <td>6.892753</td>\n",
       "      <td>-4.487962</td>\n",
       "      <td>0.247002</td>\n",
       "      <td>0.642566</td>\n",
       "      <td>0.802024</td>\n",
       "      <td>1.050596</td>\n",
       "      <td>0.531006</td>\n",
       "      <td>-0.271540</td>\n",
       "      <td>-6.231290</td>\n",
       "      <td>-0.039095</td>\n",
       "      <td>-2.252637</td>\n",
       "      <td>-0.065426</td>\n",
       "      <td>True</td>\n",
       "      <td>True</td>\n",
       "    </tr>\n",
       "    <tr>\n",
       "      <th>4</th>\n",
       "      <td>6.571718</td>\n",
       "      <td>6.892753</td>\n",
       "      <td>-4.487962</td>\n",
       "      <td>1.177587</td>\n",
       "      <td>1.553956</td>\n",
       "      <td>1.170619</td>\n",
       "      <td>1.476249</td>\n",
       "      <td>0.075805</td>\n",
       "      <td>-1.162760</td>\n",
       "      <td>-6.511352</td>\n",
       "      <td>-0.039095</td>\n",
       "      <td>-2.252637</td>\n",
       "      <td>-0.065426</td>\n",
       "      <td>True</td>\n",
       "      <td>True</td>\n",
       "    </tr>\n",
       "  </tbody>\n",
       "</table>\n",
       "</div>"
      ],
      "text/plain": [
       "          0         1         2         3         4         5         6  \\\n",
       "0  6.725695  6.771687 -4.487962 -1.614167  0.414718 -0.672355  0.199289   \n",
       "1  6.725695  6.771687 -4.046623 -0.683583  0.186871  0.433429  0.199289   \n",
       "2  6.725695  6.771687 -4.487962  0.247002  0.642566  0.433429  1.050596   \n",
       "3  6.571718  6.892753 -4.487962  0.247002  0.642566  0.802024  1.050596   \n",
       "4  6.571718  6.892753 -4.487962  1.177587  1.553956  1.170619  1.476249   \n",
       "\n",
       "          7         8         9        10        11        12  \\\n",
       "0 -3.565798 -2.053981 -6.511352 -0.309213 -2.252637 -0.065426   \n",
       "1 -2.200197 -2.053981 -6.511352 -0.579331 -2.252637 -0.065426   \n",
       "2 -2.200197 -2.053981 -6.511352  0.231022 -2.252637 -0.065426   \n",
       "3  0.531006 -0.271540 -6.231290 -0.039095 -2.252637 -0.065426   \n",
       "4  0.075805 -1.162760 -6.511352 -0.039095 -2.252637 -0.065426   \n",
       "\n",
       "   Isolation_Forest_Anomaly  OCSVM_Anomaly  \n",
       "0                      True           True  \n",
       "1                      True           True  \n",
       "2                      True           True  \n",
       "3                      True           True  \n",
       "4                      True           True  "
      ]
     },
     "execution_count": 350,
     "metadata": {},
     "output_type": "execute_result"
    }
   ],
   "source": [
    "scaled_time_series.head(5)"
   ]
  },
  {
   "cell_type": "markdown",
   "metadata": {},
   "source": [
    "## Conclusion: Model chosen for outlier detection is Isolation Forest , now class labels added to main dataframe"
   ]
  },
  {
   "cell_type": "code",
   "execution_count": 238,
   "metadata": {},
   "outputs": [],
   "source": [
    "df1['Isolation_Forest_Anomaly']=scaled_time_series['Isolation_Forest_Anomaly'].values"
   ]
  },
  {
   "cell_type": "code",
   "execution_count": 239,
   "metadata": {},
   "outputs": [
    {
     "data": {
      "text/plain": [
       "False    39937\n",
       "True      2133\n",
       "Name: Isolation_Forest_Anomaly, dtype: int64"
      ]
     },
     "execution_count": 239,
     "metadata": {},
     "output_type": "execute_result"
    }
   ],
   "source": [
    "df1['Isolation_Forest_Anomaly'].value_counts()"
   ]
  },
  {
   "cell_type": "markdown",
   "metadata": {},
   "source": [
    "Now we have 13 metrics on which we have classified anomalies based on Isolation Forests. will try to **visualize**  the results and check if the classification makes sense\n",
    "\n",
    "Normalize and fix the metrics to **PCA** to reduce to reduce the number of dimensions and then plot them in 3D highlighting the anomalies. "
   ]
  },
  {
   "cell_type": "code",
   "execution_count": 240,
   "metadata": {},
   "outputs": [],
   "source": [
    "to_model_columns=df1.columns[0:13]\n"
   ]
  },
  {
   "cell_type": "code",
   "execution_count": 203,
   "metadata": {},
   "outputs": [
    {
     "data": {
      "image/png": "[encoded data removed]",
      "text/plain": [
       "<Figure size 432x288 with 1 Axes>"
      ]
     },
     "metadata": {
      "needs_background": "light"
     },
     "output_type": "display_data"
    }
   ],
   "source": [
    "from sklearn.decomposition import PCA\n",
    "from sklearn.preprocessing import StandardScaler\n",
    "from mpl_toolkits.mplot3d import Axes3D\n",
    "pca = PCA(n_components=3)  # Reduce to k=3 dimensions\n",
    "scaler = StandardScaler()\n",
    "#normalize the metrics\n",
    "X = scaler.fit_transform(df1[to_model_columns])\n",
    "X_reduce = pca.fit_transform(X)\n",
    "\n",
    "fig = plt.figure()\n",
    "ax = fig.add_subplot(111, projection='3d')\n",
    "ax.set_zlabel(\"x_composite_3\")\n",
    "\n",
    "# Plot the compressed data points\n",
    "ax.scatter(X_reduce[:, 0], X_reduce[:, 1], zs=X_reduce[:, 2],\n",
    "           s=4, lw=1, label=\"inliers\",c=\"blue\")\n",
    "\n",
    "\n",
    "outliers=df1.loc[df1['Isolation_Forest_Anomaly']==True]\n",
    "outlier_index=list(df.index)\n",
    "# Plot x's for the ground truth outliers\n",
    "ax.scatter(X_reduce[outlier_index,0],X_reduce[outlier_index,1],\n",
    "           X_reduce[outlier_index,2],\n",
    "           lw=2, s=60, marker=\"x\", c=\"red\", label=\"outliers\")\n",
    "ax.legend()\n",
    "plt.show()\n"
   ]
  },
  {
   "cell_type": "code",
   "execution_count": 202,
   "metadata": {},
   "outputs": [
    {
     "data": {
      "image/png": "[encoded data removed]",
      "text/plain": [
       "<Figure size 360x360 with 1 Axes>"
      ]
     },
     "metadata": {
      "needs_background": "light"
     },
     "output_type": "display_data"
    }
   ],
   "source": [
    "from sklearn.decomposition import PCA\n",
    "pca = PCA(2)\n",
    "pca.fit(df1[to_model_columns])\n",
    "\n",
    "\n",
    "res=pd.DataFrame(pca.transform(df1[to_model_columns]))\n",
    "\n",
    "Z = np.array(res)\n",
    "figsize=(5, 5)\n",
    "plt.figure(figsize=figsize)\n",
    "plt.title(\"IsolationForest\")\n",
    "plt.contourf( Z, cmap=plt.cm.Blues_r)\n",
    "\n",
    "b1 = plt.scatter(res[0], res[1], c='blue',\n",
    "                 s=40,label=\"normal points\")\n",
    "\n",
    "b1 = plt.scatter(res.iloc[outlier_index,0],res.iloc[outlier_index,1], c='red',\n",
    "                 s=40,  edgecolor=\"red\",label=\"predicted outliers\")\n",
    "plt.legend(loc=\"upper right\")\n",
    "plt.show()"
   ]
  },
  {
   "cell_type": "markdown",
   "metadata": {},
   "source": [
    "**2D plot gives a better picture,Anomalies are highlighted as red edges and normal points are indicated with blue points in the plot.**"
   ]
  },
  {
   "cell_type": "markdown",
   "metadata": {},
   "source": [
    "## Data Modeling\n",
    "1. lin models: pca, mcd, ocsvm\n",
    "2. proximity/density based= lof, cblof, knn, hbos\n",
    "3. probabilistic= abod\n",
    "4. oulier ensembles and combination= IF, feature bagging, lscp\n",
    "5. clustering=kmeans\n"
   ]
  },
  {
   "cell_type": "code",
   "execution_count": null,
   "metadata": {},
   "outputs": [],
   "source": []
  },
  {
   "cell_type": "markdown",
   "metadata": {},
   "source": [
    "## MODEL BUILDING\n",
    "\n"
   ]
  },
  {
   "cell_type": "code",
   "execution_count": 273,
   "metadata": {},
   "outputs": [],
   "source": [
    "\n",
    "from sklearn.model_selection import train_test_split\n",
    "from sklearn.metrics import roc_auc_score ,mean_squared_error,accuracy_score,classification_report,confusion_matrix,roc_curve\n",
    "from sklearn.metrics import confusion_matrix\n",
    "from sklearn.metrics import f1_score\n",
    "from sklearn.metrics import recall_score\n",
    "from sklearn.metrics import precision_score\n",
    "from sklearn.model_selection import GridSearchCV\n",
    "from sklearn.model_selection import train_test_split\n",
    "from sklearn.pipeline import Pipeline, FeatureUnion\n",
    "from sklearn.metrics import classification_report"
   ]
  },
  {
   "cell_type": "code",
   "execution_count": null,
   "metadata": {},
   "outputs": [],
   "source": [
    "cols=['Engineering Sensors 1',\n",
    "       'Engineering Sensors 2', 'Engineering Sensors 3',\n",
    "       'Engineering Sensors 4', 'Engineering Sensors 5',\n",
    "       'Engineering Sensors 6', 'Engineering Sensors 7',\n",
    "       'Engineering Sensors 8', 'Engineering Sensors 9',\n",
    "       'Engineering Sensors 10', 'Engineering Sensors 11',\n",
    "       'Engineering Sensors 12', 'Engineering Sensors 13']"
   ]
  },
  {
   "cell_type": "code",
   "execution_count": 320,
   "metadata": {},
   "outputs": [],
   "source": [
    "df2=df\n",
    "x=df2[cols]\n",
    "y=df1['Isolation_Forest_Anomaly']\n",
    "# calculation for value of 'nu' in one class SVM\n",
    "X_train, X_test, y_train, y_test = train_test_split(x,y,test_size=0.2,random_state=6)\n",
    "train_normal=y_train[y_train==False]   \n",
    "train_outliers=y_train[y_train==True]\n",
    "outlier_prop=len(train_outliers)/len(train_normal)                                                 "
   ]
  },
  {
   "cell_type": "code",
   "execution_count": 321,
   "metadata": {},
   "outputs": [],
   "source": [
    "\n",
    "def run_model(predictors,target, model):\n",
    "    X_train, X_test, y_train, y_test = train_test_split(predictors,\n",
    "                                                        target, test_size=0.2, random_state=6)\n",
    "   \n",
    "    # fit model\n",
    "    model.fit(X_train, y_train)\n",
    "    # predict target on test data\n",
    "    y_scores = model.predict(X_test)\n",
    "    ns_probs=[0 for _ in range(len(y_test))]\n",
    "    # predict target probabilities\n",
    "    lr_probs=model.predict(X_test)\n",
    "    # calculate ROC-AUC scores\n",
    "    ns_auc=roc_auc_score(y_test,ns_probs)\n",
    "    lr_auc=roc_auc_score(y_test,lr_probs)\n",
    "    # calculate roc curves\n",
    "    ns_fpr,ns_tpr, _ =roc_curve(y_test,ns_probs)\n",
    "    lr_fpr,lr_tpr, _ =roc_curve(y_test,lr_probs)\n",
    "    \n",
    "    print('Classification Report:\\n',classification_report(y_test, y_scores))\n",
    "    print(\"Precision Score : \",precision_score(y_test, y_scores,average='weighted').round(3))\n",
    "    print(\"Recall Score : \",recall_score(y_test, y_scores,average='weighted').round(3))\n",
    "    # plot the roc curve for the model\n",
    "    plt.plot(ns_fpr, ns_tpr, linestyle='--',label='No Skill')\n",
    "    plt.plot(lr_fpr, lr_tpr, linestyle='--',label='Logical Skill')\n",
    "    # aaxis labels\n",
    "    plt.xlabel('False Positive rate')\n",
    "    plt.ylabel('True  Positive rate')\n",
    "    # show the legend\n",
    "    plt.legend()\n",
    "    #show the plot\n",
    "    plt.show()\n",
    "    #summarize scores\n",
    "    print('No Skill : ROC AUC = %.3f' % (ns_auc))\n",
    "    print('Logistic : ROC AUC = %.3f' % (lr_auc))\n",
    "   "
   ]
  },
  {
   "cell_type": "code",
   "execution_count": null,
   "metadata": {},
   "outputs": [],
   "source": []
  },
  {
   "cell_type": "code",
   "execution_count": 325,
   "metadata": {},
   "outputs": [
    {
     "name": "stdout",
     "output_type": "stream",
     "text": [
      "========== Angle based outlier detector ==================================================\n",
      "Classification Report:\n",
      "               precision    recall  f1-score   support\n",
      "\n",
      "       False       0.97      0.92      0.94      7943\n",
      "        True       0.25      0.45      0.32       471\n",
      "\n",
      "    accuracy                           0.89      8414\n",
      "   macro avg       0.61      0.68      0.63      8414\n",
      "weighted avg       0.93      0.89      0.91      8414\n",
      "\n",
      "Precision Score :  0.926\n",
      "Recall Score :  0.894\n"
     ]
    },
    {
     "data": {
      "image/png": "[encoded data removed]",
      "text/plain": [
       "<Figure size 432x288 with 1 Axes>"
      ]
     },
     "metadata": {
      "needs_background": "light"
     },
     "output_type": "display_data"
    },
    {
     "name": "stdout",
     "output_type": "stream",
     "text": [
      "No Skill : ROC AUC = 0.500\n",
      "Logistic : ROC AUC = 0.684\n",
      "========== CLuster based Local outlier Factor ==================================================\n",
      "Classification Report:\n",
      "               precision    recall  f1-score   support\n",
      "\n",
      "       False       1.00      0.95      0.97      7943\n",
      "        True       0.52      0.97      0.67       471\n",
      "\n",
      "    accuracy                           0.95      8414\n",
      "   macro avg       0.76      0.96      0.82      8414\n",
      "weighted avg       0.97      0.95      0.95      8414\n",
      "\n",
      "Precision Score :  0.971\n",
      "Recall Score :  0.947\n"
     ]
    },
    {
     "data": {
      "image/png": "[encoded data removed]",
      "text/plain": [
       "<Figure size 432x288 with 1 Axes>"
      ]
     },
     "metadata": {
      "needs_background": "light"
     },
     "output_type": "display_data"
    },
    {
     "name": "stdout",
     "output_type": "stream",
     "text": [
      "No Skill : ROC AUC = 0.500\n",
      "Logistic : ROC AUC = 0.958\n",
      "========== K Nearest Neighbours ==================================================\n",
      "Classification Report:\n",
      "               precision    recall  f1-score   support\n",
      "\n",
      "       False       0.97      0.93      0.95      7943\n",
      "        True       0.31      0.55      0.39       471\n",
      "\n",
      "    accuracy                           0.91      8414\n",
      "   macro avg       0.64      0.74      0.67      8414\n",
      "weighted avg       0.93      0.91      0.92      8414\n",
      "\n",
      "Precision Score :  0.935\n",
      "Recall Score :  0.905\n"
     ]
    },
    {
     "data": {
      "image/png": "[encoded data removed]",
      "text/plain": [
       "<Figure size 432x288 with 1 Axes>"
      ]
     },
     "metadata": {
      "needs_background": "light"
     },
     "output_type": "display_data"
    },
    {
     "name": "stdout",
     "output_type": "stream",
     "text": [
      "No Skill : ROC AUC = 0.500\n",
      "Logistic : ROC AUC = 0.737\n",
      "========== OCSVM ==================================================\n",
      "Classification Report:\n",
      "               precision    recall  f1-score   support\n",
      "\n",
      "          -1       0.00      0.00      0.00         0\n",
      "           0       0.00      0.00      0.00      7943\n",
      "           1       0.02      0.42      0.05       471\n",
      "\n",
      "    accuracy                           0.02      8414\n",
      "   macro avg       0.01      0.14      0.02      8414\n",
      "weighted avg       0.00      0.02      0.00      8414\n",
      "\n",
      "Precision Score :  0.001\n",
      "Recall Score :  0.023\n"
     ]
    },
    {
     "data": {
      "image/png": "[encoded data removed]",
      "text/plain": [
       "<Figure size 432x288 with 1 Axes>"
      ]
     },
     "metadata": {
      "needs_background": "light"
     },
     "output_type": "display_data"
    },
    {
     "name": "stdout",
     "output_type": "stream",
     "text": [
      "No Skill : ROC AUC = 0.500\n",
      "Logistic : ROC AUC = 0.222\n",
      "========== Isolation forest ==================================================\n",
      "Classification Report:\n",
      "               precision    recall  f1-score   support\n",
      "\n",
      "       False       1.00      0.95      0.97      7943\n",
      "        True       0.53      1.00      0.70       471\n",
      "\n",
      "    accuracy                           0.95      8414\n",
      "   macro avg       0.77      0.97      0.83      8414\n",
      "weighted avg       0.97      0.95      0.96      8414\n",
      "\n",
      "Precision Score :  0.974\n",
      "Recall Score :  0.951\n"
     ]
    },
    {
     "data": {
      "image/png": "[encoded data removed]",
      "text/plain": [
       "<Figure size 432x288 with 1 Axes>"
      ]
     },
     "metadata": {
      "needs_background": "light"
     },
     "output_type": "display_data"
    },
    {
     "name": "stdout",
     "output_type": "stream",
     "text": [
      "No Skill : ROC AUC = 0.500\n",
      "Logistic : ROC AUC = 0.974\n"
     ]
    }
   ],
   "source": [
    "models = {'Angle based outlier detector':ABOD()\n",
    "          ,'CLuster based Local outlier Factor':CBLOF()\n",
    "          ,'K Nearest Neighbours': KNN()\n",
    "          ,'OCSVM':OneClassSVM(nu=outlier_prop, kernel=\"rbf\",gamma=0.0001)\n",
    "          ,'Isolation forest':IForest(n_estimators=100,max_samples='auto',\n",
    "                                      n_jobs=-1,random_state=42,verbose=0)}\n",
    "\n",
    "\n",
    "j = 0\n",
    "for i in models.items():\n",
    "    print('='*10,list(models.keys())[j],'='*50)\n",
    "    model = i[1]\n",
    "    a = run_model(x, y, model)\n",
    "    j=j+1"
   ]
  },
  {
   "cell_type": "markdown",
   "metadata": {},
   "source": [
    "### Model selected : Isolated Forest , ROC-AUC= 0.974\n",
    "Hyperparameter tuning using GridSearchCV to check if the score improves"
   ]
  },
  {
   "cell_type": "code",
   "execution_count": 316,
   "metadata": {},
   "outputs": [],
   "source": [
    "from sklearn.metrics import make_scorer, f1_score\n",
    "from sklearn import model_selection\n",
    "from sklearn.datasets import make_classification\n"
   ]
  },
  {
   "cell_type": "code",
   "execution_count": 345,
   "metadata": {},
   "outputs": [
    {
     "data": {
      "text/plain": [
       "RandomizedSearchCV(cv=5, error_score=nan,\n",
       "                   estimator=IsolationForest(behaviour='new', bootstrap=False,\n",
       "                                             contamination='auto',\n",
       "                                             max_features=1.0,\n",
       "                                             max_samples='auto',\n",
       "                                             n_estimators=100, n_jobs=None,\n",
       "                                             random_state=47, verbose=0,\n",
       "                                             warm_start=False),\n",
       "                   iid='deprecated', n_iter=10, n_jobs=None,\n",
       "                   param_distributions={'bootstrap': [True, False],\n",
       "                                        'contamination': [0.1, 0.2, 0.3, 0.4,\n",
       "                                                          0.5],\n",
       "                                        'max_features': [10, 13, 5],\n",
       "                                        'max_samples': [100, 500, 5, 'auto'],\n",
       "                                        'n_estimators': [10, 100],\n",
       "                                        'n_jobs': [5, 10, 20, 30, -1]},\n",
       "                   pre_dispatch='2*n_jobs', random_state=None, refit=True,\n",
       "                   return_train_score=True, scoring='roc_auc', verbose=0)"
      ]
     },
     "execution_count": 345,
     "metadata": {},
     "output_type": "execute_result"
    }
   ],
   "source": [
    "X_train1, X_test1, y_train1, y_test1 = train_test_split(x,y, test_size=0.2, random_state=6)\n",
    "   \n",
    "\n",
    "clf = IsolationForest(random_state=47, behaviour='new')\n",
    "\n",
    "param_grid = {'n_estimators': [10, 100], \n",
    "              'max_samples': [100, 500, 5,'auto'], \n",
    "              'contamination': [0.1, 0.2, 0.3, 0.4, 0.5], \n",
    "              'max_features': [10,13,5], \n",
    "              'bootstrap': [True, False], \n",
    "              'n_jobs': [5, 10, 20, 30,-1]}\n",
    "\n",
    "  \n",
    "    \n",
    "grid_dt_estimator = model_selection.RandomizedSearchCV(clf, \n",
    "                                                 param_grid,\n",
    "                                                 scoring='roc_auc', \n",
    "                                                  refit=True,\n",
    "                                                 cv=5, \n",
    "                                                 return_train_score=True)\n",
    "grid_dt_estimator.fit(X_train1, y_train1)"
   ]
  },
  {
   "cell_type": "code",
   "execution_count": 346,
   "metadata": {},
   "outputs": [
    {
     "data": {
      "text/plain": [
       "({'n_jobs': -1,\n",
       "  'n_estimators': 10,\n",
       "  'max_samples': 5,\n",
       "  'max_features': 10,\n",
       "  'contamination': 0.3,\n",
       "  'bootstrap': True},\n",
       " 0.17845020825539112)"
      ]
     },
     "execution_count": 346,
     "metadata": {},
     "output_type": "execute_result"
    }
   ],
   "source": [
    "grid_dt_estimator.best_params_,grid_dt_estimator.best_score_"
   ]
  },
  {
   "cell_type": "code",
   "execution_count": 347,
   "metadata": {},
   "outputs": [],
   "source": [
    "final_model=IsolationForest(n_estimators=10,max_samples=5,\n",
    "                            contamination=0.3,max_features=10, \n",
    "                            bootstrap=True,n_jobs=-1)\n",
    " \n",
    "final_model.fit(X_train1,y_train1)\n",
    "y_pred_final = final_model.predict(X_test1)"
   ]
  },
  {
   "cell_type": "code",
   "execution_count": 349,
   "metadata": {},
   "outputs": [
    {
     "name": "stdout",
     "output_type": "stream",
     "text": [
      "Classification Report:\n",
      "               precision    recall  f1-score   support\n",
      "\n",
      "          -1       0.00      0.00      0.00         0\n",
      "           0       0.00      0.00      0.00      7943\n",
      "           1       0.02      0.24      0.03       471\n",
      "\n",
      "    accuracy                           0.01      8414\n",
      "   macro avg       0.01      0.08      0.01      8414\n",
      "weighted avg       0.00      0.01      0.00      8414\n",
      "\n",
      "Precision Score :  0.001\n",
      "Recall Score :  0.013\n"
     ]
    },
    {
     "data": {
      "image/png": "[encoded data removed]",
      "text/plain": [
       "<Figure size 432x288 with 1 Axes>"
      ]
     },
     "metadata": {
      "needs_background": "light"
     },
     "output_type": "display_data"
    },
    {
     "name": "stdout",
     "output_type": "stream",
     "text": [
      "No Skill : ROC AUC = 0.500\n",
      "Logistic : ROC AUC = 0.974\n"
     ]
    }
   ],
   "source": [
    "ns_probs=[0 for _ in range(len(y_test1))]\n",
    "#predict target probabilities\n",
    "lr_probs=model.predict(X_test1)\n",
    "# calculate ROC-AUC scores\n",
    "ns_auc=roc_auc_score(y_test1,ns_probs)\n",
    "lr_auc=roc_auc_score(y_test1,lr_probs)\n",
    "#calculate roc curves\n",
    "ns_fpr,ns_tpr, _ =roc_curve(y_test1,ns_probs)\n",
    "lr_fpr,lr_tpr, _ =roc_curve(y_test1,lr_probs)\n",
    "print('Classification Report:\\n',classification_report(y_test1, y_pred_final))\n",
    "print(\"Precision Score : \",precision_score(y_test1, y_pred_final,average='weighted').round(3))\n",
    "print(\"Recall Score : \",recall_score(y_test1, y_pred_final,average='weighted').round(3))\n",
    "#plot the roc curve for the model\n",
    "plt.plot(ns_fpr, ns_tpr, linestyle='--',label='No Skill')\n",
    "plt.plot(lr_fpr, lr_tpr, linestyle='--',label='Logical Skill')\n",
    "#aaxis labels\n",
    "plt.xlabel('False Positive rate')\n",
    "plt.ylabel('True  Positive rate')\n",
    "#show the legend\n",
    "plt.legend()\n",
    "#show the plot\n",
    "plt.show()\n",
    "#summarize scores\n",
    "print('No Skill : ROC AUC = %.3f' % (ns_auc))\n",
    "print('Logistic : ROC AUC = %.3f' % (lr_auc))"
   ]
  },
  {
   "cell_type": "code",
   "execution_count": null,
   "metadata": {},
   "outputs": [],
   "source": []
  }
 ],
 "metadata": {
  "kernelspec": {
   "display_name": "Python 3",
   "language": "python",
   "name": "python3"
  },
  "language_info": {
   "codemirror_mode": {
    "name": "ipython",
    "version": 3
   },
   "file_extension": ".py",
   "mimetype": "text/x-python",
   "name": "python",
   "nbconvert_exporter": "python",
   "pygments_lexer": "ipython3",
   "version": "3.7.6"
  }
 },
 "nbformat": 4,
 "nbformat_minor": 4
}
