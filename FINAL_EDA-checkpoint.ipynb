{
 "cells": [
  {
   "cell_type": "code",
   "execution_count": 1,
   "metadata": {},
   "outputs": [],
   "source": [
    "import os\n",
    "import pandas as pd\n",
    "import matplotlib.pyplot as plt \n",
    "import matplotlib.font_manager\n",
    "%matplotlib inline\n",
    "import seaborn as sns\n",
    "import numpy as np\n",
    "import warnings\n",
    "warnings.simplefilter('ignore')\n",
    "from ipywidgets import widgets\n",
    "# ! pip install plotly"
   ]
  },
  {
   "cell_type": "code",
   "execution_count": 2,
   "metadata": {},
   "outputs": [
    {
     "data": {
      "text/html": [
       "<div>\n",
       "<style scoped>\n",
       "    .dataframe tbody tr th:only-of-type {\n",
       "        vertical-align: middle;\n",
       "    }\n",
       "\n",
       "    .dataframe tbody tr th {\n",
       "        vertical-align: top;\n",
       "    }\n",
       "\n",
       "    .dataframe thead th {\n",
       "        text-align: right;\n",
       "    }\n",
       "</style>\n",
       "<table border=\"1\" class=\"dataframe\">\n",
       "  <thead>\n",
       "    <tr style=\"text-align: right;\">\n",
       "      <th></th>\n",
       "      <th>input current</th>\n",
       "      <th>input current (Min)</th>\n",
       "      <th>input current (Max)</th>\n",
       "      <th>input current (StdDev)</th>\n",
       "      <th>current data 0x1</th>\n",
       "      <th>current data 0x2</th>\n",
       "      <th>current data 0x3</th>\n",
       "      <th>current data 0x4</th>\n",
       "      <th>current data 0x5</th>\n",
       "      <th>current data 0x6</th>\n",
       "      <th>...</th>\n",
       "      <th>Engineering Sensors 12</th>\n",
       "      <th>Engineering Sensors 13</th>\n",
       "      <th>motor fault counters 1</th>\n",
       "      <th>motor fault counters 2</th>\n",
       "      <th>motor fault counters 3</th>\n",
       "      <th>motor fault counters 4</th>\n",
       "      <th>motor fault counters 5</th>\n",
       "      <th>motor fault counters 6</th>\n",
       "      <th>motor fault counters 7</th>\n",
       "      <th>motor fault counters 8</th>\n",
       "    </tr>\n",
       "    <tr>\n",
       "      <th>datetime</th>\n",
       "      <th></th>\n",
       "      <th></th>\n",
       "      <th></th>\n",
       "      <th></th>\n",
       "      <th></th>\n",
       "      <th></th>\n",
       "      <th></th>\n",
       "      <th></th>\n",
       "      <th></th>\n",
       "      <th></th>\n",
       "      <th></th>\n",
       "      <th></th>\n",
       "      <th></th>\n",
       "      <th></th>\n",
       "      <th></th>\n",
       "      <th></th>\n",
       "      <th></th>\n",
       "      <th></th>\n",
       "      <th></th>\n",
       "      <th></th>\n",
       "      <th></th>\n",
       "    </tr>\n",
       "  </thead>\n",
       "  <tbody>\n",
       "    <tr>\n",
       "      <th>2014-09-21 12:39:19</th>\n",
       "      <td>1.14</td>\n",
       "      <td>1.01</td>\n",
       "      <td>1.32</td>\n",
       "      <td>0.09</td>\n",
       "      <td>0.34</td>\n",
       "      <td>0.31</td>\n",
       "      <td>0.0</td>\n",
       "      <td>0.06</td>\n",
       "      <td>0.59</td>\n",
       "      <td>0</td>\n",
       "      <td>...</td>\n",
       "      <td>25.6</td>\n",
       "      <td>33.9</td>\n",
       "      <td>0</td>\n",
       "      <td>0</td>\n",
       "      <td>0</td>\n",
       "      <td>0</td>\n",
       "      <td>0</td>\n",
       "      <td>0</td>\n",
       "      <td>0</td>\n",
       "      <td>0</td>\n",
       "    </tr>\n",
       "    <tr>\n",
       "      <th>2014-09-21 12:39:29</th>\n",
       "      <td>1.16</td>\n",
       "      <td>1.01</td>\n",
       "      <td>1.27</td>\n",
       "      <td>0.08</td>\n",
       "      <td>0.37</td>\n",
       "      <td>0.30</td>\n",
       "      <td>0.0</td>\n",
       "      <td>0.06</td>\n",
       "      <td>0.61</td>\n",
       "      <td>0</td>\n",
       "      <td>...</td>\n",
       "      <td>25.6</td>\n",
       "      <td>33.9</td>\n",
       "      <td>0</td>\n",
       "      <td>0</td>\n",
       "      <td>0</td>\n",
       "      <td>0</td>\n",
       "      <td>0</td>\n",
       "      <td>0</td>\n",
       "      <td>0</td>\n",
       "      <td>0</td>\n",
       "    </tr>\n",
       "  </tbody>\n",
       "</table>\n",
       "<p>2 rows × 81 columns</p>\n",
       "</div>"
      ],
      "text/plain": [
       "                     input current  input current (Min)  input current (Max)  \\\n",
       "datetime                                                                       \n",
       "2014-09-21 12:39:19           1.14                 1.01                 1.32   \n",
       "2014-09-21 12:39:29           1.16                 1.01                 1.27   \n",
       "\n",
       "                     input current (StdDev)  current data 0x1  \\\n",
       "datetime                                                        \n",
       "2014-09-21 12:39:19                    0.09              0.34   \n",
       "2014-09-21 12:39:29                    0.08              0.37   \n",
       "\n",
       "                     current data 0x2  current data 0x3  current data 0x4  \\\n",
       "datetime                                                                    \n",
       "2014-09-21 12:39:19              0.31               0.0              0.06   \n",
       "2014-09-21 12:39:29              0.30               0.0              0.06   \n",
       "\n",
       "                     current data 0x5  current data 0x6  ...  \\\n",
       "datetime                                                 ...   \n",
       "2014-09-21 12:39:19              0.59                 0  ...   \n",
       "2014-09-21 12:39:29              0.61                 0  ...   \n",
       "\n",
       "                     Engineering Sensors 12  Engineering Sensors 13  \\\n",
       "datetime                                                              \n",
       "2014-09-21 12:39:19                    25.6                    33.9   \n",
       "2014-09-21 12:39:29                    25.6                    33.9   \n",
       "\n",
       "                     motor fault counters 1  motor fault counters 2  \\\n",
       "datetime                                                              \n",
       "2014-09-21 12:39:19                       0                       0   \n",
       "2014-09-21 12:39:29                       0                       0   \n",
       "\n",
       "                     motor fault counters 3  motor fault counters 4  \\\n",
       "datetime                                                              \n",
       "2014-09-21 12:39:19                       0                       0   \n",
       "2014-09-21 12:39:29                       0                       0   \n",
       "\n",
       "                     motor fault counters 5  motor fault counters 6  \\\n",
       "datetime                                                              \n",
       "2014-09-21 12:39:19                       0                       0   \n",
       "2014-09-21 12:39:29                       0                       0   \n",
       "\n",
       "                     motor fault counters 7  motor fault counters 8  \n",
       "datetime                                                             \n",
       "2014-09-21 12:39:19                       0                       0  \n",
       "2014-09-21 12:39:29                       0                       0  \n",
       "\n",
       "[2 rows x 81 columns]"
      ]
     },
     "execution_count": 2,
     "metadata": {},
     "output_type": "execute_result"
    }
   ],
   "source": [
    "df=pd.read_csv('anomaly_detection_data.csv')\n",
    "df['datetime']=df['date']+' '+df['time']\n",
    "# df.isnull().sum()\n",
    "# df.duplicated().sum()\n",
    "import re\n",
    "df['datetime']=df['datetime'].apply(lambda i: re.sub('\\.',':',i))\n",
    "df['datetime']=pd.to_datetime(df['datetime'])\n",
    "df=df.sort_values(by='datetime')\n",
    "\n",
    "df.drop(['date','time','timestamp'], axis=1, inplace=True)\n",
    "df.set_index('datetime',inplace=True)\n",
    "df.head(2)\n"
   ]
  },
  {
   "cell_type": "code",
   "execution_count": 3,
   "metadata": {},
   "outputs": [
    {
     "name": "stdout",
     "output_type": "stream",
     "text": [
      "Time period from 2014-09-21 12:39:19 to 2017-10-08 23:59:59\n"
     ]
    }
   ],
   "source": [
    "# Adding more features :\n",
    "# the hours and if it's night or day (6:00-19:00)\n",
    "df['hours'] = df.index.hour\n",
    "df['month']=df.index.month\n",
    "df['year']  =df.index.year\n",
    "df['daylight'] = ((df['hours'] >= 6) & (df['hours'] <= 19)).astype(int)\n",
    "df['night']=((df['hours'] <= 23) & (df['hours'] > 19)).astype(int)\n",
    "# the day of the week (Monday=0, Sunday=6) and if it's a week end day or week day.\n",
    "df['Date']=df.index.date\n",
    "df['DayOfTheWeek'] = df.index.dayofweek\n",
    "df['WeekDay'] = (df['DayOfTheWeek'] < 5).astype(int)\n",
    "df['weekend']=(df['DayOfTheWeek']>=5).astype(int)\n",
    "df['quarter'] = df.index.quarter\n",
    "print(\"Time period from {} to {}\".format(df.index.min(), df.index.max()))"
   ]
  },
  {
   "cell_type": "code",
   "execution_count": 4,
   "metadata": {},
   "outputs": [
    {
     "data": {
      "text/html": [
       "<div>\n",
       "<style scoped>\n",
       "    .dataframe tbody tr th:only-of-type {\n",
       "        vertical-align: middle;\n",
       "    }\n",
       "\n",
       "    .dataframe tbody tr th {\n",
       "        vertical-align: top;\n",
       "    }\n",
       "\n",
       "    .dataframe thead th {\n",
       "        text-align: right;\n",
       "    }\n",
       "</style>\n",
       "<table border=\"1\" class=\"dataframe\">\n",
       "  <thead>\n",
       "    <tr style=\"text-align: right;\">\n",
       "      <th></th>\n",
       "      <th>input current</th>\n",
       "      <th>input current (Min)</th>\n",
       "      <th>input current (Max)</th>\n",
       "      <th>input current (StdDev)</th>\n",
       "      <th>current data 0x1</th>\n",
       "      <th>current data 0x2</th>\n",
       "      <th>current data 0x3</th>\n",
       "      <th>current data 0x4</th>\n",
       "      <th>current data 0x5</th>\n",
       "      <th>current data 0x6</th>\n",
       "      <th>...</th>\n",
       "      <th>hours</th>\n",
       "      <th>month</th>\n",
       "      <th>year</th>\n",
       "      <th>daylight</th>\n",
       "      <th>night</th>\n",
       "      <th>Date</th>\n",
       "      <th>DayOfTheWeek</th>\n",
       "      <th>WeekDay</th>\n",
       "      <th>weekend</th>\n",
       "      <th>quarter</th>\n",
       "    </tr>\n",
       "    <tr>\n",
       "      <th>datetime</th>\n",
       "      <th></th>\n",
       "      <th></th>\n",
       "      <th></th>\n",
       "      <th></th>\n",
       "      <th></th>\n",
       "      <th></th>\n",
       "      <th></th>\n",
       "      <th></th>\n",
       "      <th></th>\n",
       "      <th></th>\n",
       "      <th></th>\n",
       "      <th></th>\n",
       "      <th></th>\n",
       "      <th></th>\n",
       "      <th></th>\n",
       "      <th></th>\n",
       "      <th></th>\n",
       "      <th></th>\n",
       "      <th></th>\n",
       "      <th></th>\n",
       "      <th></th>\n",
       "    </tr>\n",
       "  </thead>\n",
       "  <tbody>\n",
       "    <tr>\n",
       "      <th>2014-09-21 12:39:19</th>\n",
       "      <td>1.14</td>\n",
       "      <td>1.01</td>\n",
       "      <td>1.32</td>\n",
       "      <td>0.09</td>\n",
       "      <td>0.34</td>\n",
       "      <td>0.31</td>\n",
       "      <td>0.0</td>\n",
       "      <td>0.06</td>\n",
       "      <td>0.59</td>\n",
       "      <td>0</td>\n",
       "      <td>...</td>\n",
       "      <td>12</td>\n",
       "      <td>9</td>\n",
       "      <td>2014</td>\n",
       "      <td>1</td>\n",
       "      <td>0</td>\n",
       "      <td>2014-09-21</td>\n",
       "      <td>6</td>\n",
       "      <td>0</td>\n",
       "      <td>1</td>\n",
       "      <td>3</td>\n",
       "    </tr>\n",
       "    <tr>\n",
       "      <th>2014-09-21 12:39:29</th>\n",
       "      <td>1.16</td>\n",
       "      <td>1.01</td>\n",
       "      <td>1.27</td>\n",
       "      <td>0.08</td>\n",
       "      <td>0.37</td>\n",
       "      <td>0.30</td>\n",
       "      <td>0.0</td>\n",
       "      <td>0.06</td>\n",
       "      <td>0.61</td>\n",
       "      <td>0</td>\n",
       "      <td>...</td>\n",
       "      <td>12</td>\n",
       "      <td>9</td>\n",
       "      <td>2014</td>\n",
       "      <td>1</td>\n",
       "      <td>0</td>\n",
       "      <td>2014-09-21</td>\n",
       "      <td>6</td>\n",
       "      <td>0</td>\n",
       "      <td>1</td>\n",
       "      <td>3</td>\n",
       "    </tr>\n",
       "    <tr>\n",
       "      <th>2014-09-21 12:39:39</th>\n",
       "      <td>1.15</td>\n",
       "      <td>0.96</td>\n",
       "      <td>1.25</td>\n",
       "      <td>0.09</td>\n",
       "      <td>0.36</td>\n",
       "      <td>0.31</td>\n",
       "      <td>0.0</td>\n",
       "      <td>0.06</td>\n",
       "      <td>0.59</td>\n",
       "      <td>0</td>\n",
       "      <td>...</td>\n",
       "      <td>12</td>\n",
       "      <td>9</td>\n",
       "      <td>2014</td>\n",
       "      <td>1</td>\n",
       "      <td>0</td>\n",
       "      <td>2014-09-21</td>\n",
       "      <td>6</td>\n",
       "      <td>0</td>\n",
       "      <td>1</td>\n",
       "      <td>3</td>\n",
       "    </tr>\n",
       "  </tbody>\n",
       "</table>\n",
       "<p>3 rows × 91 columns</p>\n",
       "</div>"
      ],
      "text/plain": [
       "                     input current  input current (Min)  input current (Max)  \\\n",
       "datetime                                                                       \n",
       "2014-09-21 12:39:19           1.14                 1.01                 1.32   \n",
       "2014-09-21 12:39:29           1.16                 1.01                 1.27   \n",
       "2014-09-21 12:39:39           1.15                 0.96                 1.25   \n",
       "\n",
       "                     input current (StdDev)  current data 0x1  \\\n",
       "datetime                                                        \n",
       "2014-09-21 12:39:19                    0.09              0.34   \n",
       "2014-09-21 12:39:29                    0.08              0.37   \n",
       "2014-09-21 12:39:39                    0.09              0.36   \n",
       "\n",
       "                     current data 0x2  current data 0x3  current data 0x4  \\\n",
       "datetime                                                                    \n",
       "2014-09-21 12:39:19              0.31               0.0              0.06   \n",
       "2014-09-21 12:39:29              0.30               0.0              0.06   \n",
       "2014-09-21 12:39:39              0.31               0.0              0.06   \n",
       "\n",
       "                     current data 0x5  current data 0x6  ...  hours  month  \\\n",
       "datetime                                                 ...                 \n",
       "2014-09-21 12:39:19              0.59                 0  ...     12      9   \n",
       "2014-09-21 12:39:29              0.61                 0  ...     12      9   \n",
       "2014-09-21 12:39:39              0.59                 0  ...     12      9   \n",
       "\n",
       "                     year  daylight  night        Date  DayOfTheWeek  WeekDay  \\\n",
       "datetime                                                                        \n",
       "2014-09-21 12:39:19  2014         1      0  2014-09-21             6        0   \n",
       "2014-09-21 12:39:29  2014         1      0  2014-09-21             6        0   \n",
       "2014-09-21 12:39:39  2014         1      0  2014-09-21             6        0   \n",
       "\n",
       "                     weekend  quarter  \n",
       "datetime                               \n",
       "2014-09-21 12:39:19        1        3  \n",
       "2014-09-21 12:39:29        1        3  \n",
       "2014-09-21 12:39:39        1        3  \n",
       "\n",
       "[3 rows x 91 columns]"
      ]
     },
     "execution_count": 4,
     "metadata": {},
     "output_type": "execute_result"
    }
   ],
   "source": [
    "df.head(3)"
   ]
  },
  {
   "cell_type": "markdown",
   "metadata": {},
   "source": [
    "### Select 13 engg. sensor features for further exploration"
   ]
  },
  {
   "cell_type": "code",
   "execution_count": 5,
   "metadata": {},
   "outputs": [],
   "source": [
    "cols=['Engineering Sensors 1', 'Engineering Sensors 2',\n",
    "       'Engineering Sensors 3', 'Engineering Sensors 4',\n",
    "       'Engineering Sensors 5', 'Engineering Sensors 6',\n",
    "       'Engineering Sensors 7', 'Engineering Sensors 8',\n",
    "       'Engineering Sensors 9', 'Engineering Sensors 10',\n",
    "       'Engineering Sensors 11', 'Engineering Sensors 12',\n",
    "       'Engineering Sensors 13','month','year','hours','daylight','night','Date','DayOfTheWeek','WeekDay','weekend','quarter']\n",
    "df1=df[cols]\n",
    "col=['Engineering Sensors 1', 'Engineering Sensors 2',\n",
    "       'Engineering Sensors 3', 'Engineering Sensors 4',\n",
    "       'Engineering Sensors 5', 'Engineering Sensors 6',\n",
    "       'Engineering Sensors 7', 'Engineering Sensors 8',\n",
    "       'Engineering Sensors 9', 'Engineering Sensors 10',\n",
    "       'Engineering Sensors 11', 'Engineering Sensors 12',\n",
    "       'Engineering Sensors 13']#,'year','hours','daylight']"
   ]
  },
  {
   "cell_type": "code",
   "execution_count": 7,
   "metadata": {},
   "outputs": [
    {
     "data": {
      "text/html": [
       "<div>\n",
       "<style scoped>\n",
       "    .dataframe tbody tr th:only-of-type {\n",
       "        vertical-align: middle;\n",
       "    }\n",
       "\n",
       "    .dataframe tbody tr th {\n",
       "        vertical-align: top;\n",
       "    }\n",
       "\n",
       "    .dataframe thead th {\n",
       "        text-align: right;\n",
       "    }\n",
       "</style>\n",
       "<table border=\"1\" class=\"dataframe\">\n",
       "  <thead>\n",
       "    <tr style=\"text-align: right;\">\n",
       "      <th></th>\n",
       "      <th>month</th>\n",
       "      <th>Engineering Sensors 1</th>\n",
       "      <th>Engineering Sensors 2</th>\n",
       "      <th>Engineering Sensors 3</th>\n",
       "      <th>Engineering Sensors 4</th>\n",
       "      <th>Engineering Sensors 5</th>\n",
       "      <th>Engineering Sensors 6</th>\n",
       "      <th>Engineering Sensors 7</th>\n",
       "      <th>Engineering Sensors 8</th>\n",
       "      <th>Engineering Sensors 9</th>\n",
       "      <th>Engineering Sensors 10</th>\n",
       "      <th>Engineering Sensors 11</th>\n",
       "      <th>Engineering Sensors 12</th>\n",
       "      <th>Engineering Sensors 13</th>\n",
       "    </tr>\n",
       "  </thead>\n",
       "  <tbody>\n",
       "    <tr>\n",
       "      <th>0</th>\n",
       "      <td>6</td>\n",
       "      <td>25.715846</td>\n",
       "      <td>24.564234</td>\n",
       "      <td>26.318927</td>\n",
       "      <td>19.415327</td>\n",
       "      <td>19.114046</td>\n",
       "      <td>21.073255</td>\n",
       "      <td>20.738604</td>\n",
       "      <td>23.773244</td>\n",
       "      <td>23.849492</td>\n",
       "      <td>23.544943</td>\n",
       "      <td>20.582553</td>\n",
       "      <td>26.285280</td>\n",
       "      <td>33.901104</td>\n",
       "    </tr>\n",
       "    <tr>\n",
       "      <th>1</th>\n",
       "      <td>7</td>\n",
       "      <td>25.829625</td>\n",
       "      <td>24.680158</td>\n",
       "      <td>26.372024</td>\n",
       "      <td>19.463787</td>\n",
       "      <td>19.175954</td>\n",
       "      <td>21.137851</td>\n",
       "      <td>20.800642</td>\n",
       "      <td>23.829144</td>\n",
       "      <td>23.908684</td>\n",
       "      <td>23.606370</td>\n",
       "      <td>20.702853</td>\n",
       "      <td>26.350304</td>\n",
       "      <td>33.900676</td>\n",
       "    </tr>\n",
       "    <tr>\n",
       "      <th>2</th>\n",
       "      <td>8</td>\n",
       "      <td>25.625683</td>\n",
       "      <td>24.472063</td>\n",
       "      <td>26.250937</td>\n",
       "      <td>19.428714</td>\n",
       "      <td>19.059540</td>\n",
       "      <td>20.989571</td>\n",
       "      <td>20.672460</td>\n",
       "      <td>23.739698</td>\n",
       "      <td>23.812476</td>\n",
       "      <td>23.492302</td>\n",
       "      <td>20.487238</td>\n",
       "      <td>26.154254</td>\n",
       "      <td>33.901222</td>\n",
       "    </tr>\n",
       "    <tr>\n",
       "      <th>3</th>\n",
       "      <td>9</td>\n",
       "      <td>26.298106</td>\n",
       "      <td>25.263488</td>\n",
       "      <td>26.266806</td>\n",
       "      <td>19.479540</td>\n",
       "      <td>19.122279</td>\n",
       "      <td>21.146014</td>\n",
       "      <td>20.807758</td>\n",
       "      <td>23.762269</td>\n",
       "      <td>23.840278</td>\n",
       "      <td>23.387212</td>\n",
       "      <td>20.840974</td>\n",
       "      <td>26.278470</td>\n",
       "      <td>33.901156</td>\n",
       "    </tr>\n",
       "    <tr>\n",
       "      <th>4</th>\n",
       "      <td>10</td>\n",
       "      <td>25.602488</td>\n",
       "      <td>24.451088</td>\n",
       "      <td>26.361354</td>\n",
       "      <td>19.440961</td>\n",
       "      <td>19.101516</td>\n",
       "      <td>21.034896</td>\n",
       "      <td>20.720336</td>\n",
       "      <td>23.802292</td>\n",
       "      <td>23.882373</td>\n",
       "      <td>23.594641</td>\n",
       "      <td>20.406435</td>\n",
       "      <td>26.336157</td>\n",
       "      <td>33.901076</td>\n",
       "    </tr>\n",
       "  </tbody>\n",
       "</table>\n",
       "</div>"
      ],
      "text/plain": [
       "   month  Engineering Sensors 1  Engineering Sensors 2  Engineering Sensors 3  \\\n",
       "0      6              25.715846              24.564234              26.318927   \n",
       "1      7              25.829625              24.680158              26.372024   \n",
       "2      8              25.625683              24.472063              26.250937   \n",
       "3      9              26.298106              25.263488              26.266806   \n",
       "4     10              25.602488              24.451088              26.361354   \n",
       "\n",
       "   Engineering Sensors 4  Engineering Sensors 5  Engineering Sensors 6  \\\n",
       "0              19.415327              19.114046              21.073255   \n",
       "1              19.463787              19.175954              21.137851   \n",
       "2              19.428714              19.059540              20.989571   \n",
       "3              19.479540              19.122279              21.146014   \n",
       "4              19.440961              19.101516              21.034896   \n",
       "\n",
       "   Engineering Sensors 7  Engineering Sensors 8  Engineering Sensors 9  \\\n",
       "0              20.738604              23.773244              23.849492   \n",
       "1              20.800642              23.829144              23.908684   \n",
       "2              20.672460              23.739698              23.812476   \n",
       "3              20.807758              23.762269              23.840278   \n",
       "4              20.720336              23.802292              23.882373   \n",
       "\n",
       "   Engineering Sensors 10  Engineering Sensors 11  Engineering Sensors 12  \\\n",
       "0               23.544943               20.582553               26.285280   \n",
       "1               23.606370               20.702853               26.350304   \n",
       "2               23.492302               20.487238               26.154254   \n",
       "3               23.387212               20.840974               26.278470   \n",
       "4               23.594641               20.406435               26.336157   \n",
       "\n",
       "   Engineering Sensors 13  \n",
       "0               33.901104  \n",
       "1               33.900676  \n",
       "2               33.901222  \n",
       "3               33.901156  \n",
       "4               33.901076  "
      ]
     },
     "execution_count": 7,
     "metadata": {},
     "output_type": "execute_result"
    }
   ],
   "source": [
    "temp_df1 = df1[col].groupby(df['month']).mean().reset_index()\n",
    "temp_df1"
   ]
  },
  {
   "cell_type": "markdown",
   "metadata": {},
   "source": [
    "# **INSIGHT 1 :**\n",
    "\n",
    "1. highest sensor values averages in the month of september\n",
    "2. around 98% values recorded from the engineering sensors are from 2017 and rest from 2014"
   ]
  },
  {
   "cell_type": "code",
   "execution_count": 8,
   "metadata": {},
   "outputs": [],
   "source": [
    "from bokeh.plotting import figure, show, output_file, output_notebook\n",
    "from bokeh.palettes import Spectral11, colorblind, Inferno, BuGn, brewer\n",
    "from bokeh.models import HoverTool, value, LabelSet, Legend, ColumnDataSource,LinearColorMapper,BasicTicker, PrintfTickFormatter, ColorBar\n",
    "import datetime"
   ]
  },
  {
   "cell_type": "code",
   "execution_count": 10,
   "metadata": {},
   "outputs": [],
   "source": [
    "TOOLS = \"hover,save,pan,box_zoom,reset,wheel_zoom,tap\"\n",
    "p = figure(plot_height=350,\n",
    "    title=\"Average Number of Sensor3 readings by Month\",\n",
    "    tools=TOOLS,\n",
    "    toolbar_location='above')\n",
    "\n",
    "p.vbar(x=temp_df1['month'], top=temp_df1['Engineering Sensors 2'], width=0.9)\n",
    "\n",
    "p.y_range.start = 0\n",
    "p.x_range.range_padding = 0.1\n",
    "p.xgrid.grid_line_color = None\n",
    "p.axis.minor_tick_line_color = None\n",
    "p.outline_line_color = None\n",
    "p.xaxis.axis_label = 'Month'\n",
    "p.yaxis.axis_label = 'Average Sensor values'\n",
    "p.select_one(HoverTool).tooltips = [\n",
    "    ('month', '@x'),\n",
    "    ('Number of crimes', '@top'),\n",
    "]\n",
    "output_file(\"barchart.html\", title=\"barchart\")\n",
    "show(p)\n"
   ]
  },
  {
   "cell_type": "code",
   "execution_count": 11,
   "metadata": {},
   "outputs": [
    {
     "data": {
      "text/html": [
       "<div>\n",
       "<style scoped>\n",
       "    .dataframe tbody tr th:only-of-type {\n",
       "        vertical-align: middle;\n",
       "    }\n",
       "\n",
       "    .dataframe tbody tr th {\n",
       "        vertical-align: top;\n",
       "    }\n",
       "\n",
       "    .dataframe thead th {\n",
       "        text-align: right;\n",
       "    }\n",
       "</style>\n",
       "<table border=\"1\" class=\"dataframe\">\n",
       "  <thead>\n",
       "    <tr style=\"text-align: right;\">\n",
       "      <th></th>\n",
       "      <th>year</th>\n",
       "      <th>Engineering Sensors 1</th>\n",
       "      <th>Engineering Sensors 2</th>\n",
       "      <th>Engineering Sensors 3</th>\n",
       "      <th>Engineering Sensors 4</th>\n",
       "      <th>Engineering Sensors 5</th>\n",
       "      <th>Engineering Sensors 6</th>\n",
       "      <th>Engineering Sensors 7</th>\n",
       "      <th>Engineering Sensors 8</th>\n",
       "      <th>Engineering Sensors 9</th>\n",
       "      <th>Engineering Sensors 10</th>\n",
       "      <th>Engineering Sensors 11</th>\n",
       "      <th>Engineering Sensors 12</th>\n",
       "      <th>Engineering Sensors 13</th>\n",
       "    </tr>\n",
       "  </thead>\n",
       "  <tbody>\n",
       "    <tr>\n",
       "      <th>0</th>\n",
       "      <td>2014</td>\n",
       "      <td>30.088889</td>\n",
       "      <td>30.333844</td>\n",
       "      <td>25.338442</td>\n",
       "      <td>19.575351</td>\n",
       "      <td>19.208174</td>\n",
       "      <td>21.200511</td>\n",
       "      <td>20.897573</td>\n",
       "      <td>23.375862</td>\n",
       "      <td>23.442401</td>\n",
       "      <td>21.239208</td>\n",
       "      <td>20.373946</td>\n",
       "      <td>25.579949</td>\n",
       "      <td>33.900000</td>\n",
       "    </tr>\n",
       "    <tr>\n",
       "      <th>1</th>\n",
       "      <td>2017</td>\n",
       "      <td>25.751278</td>\n",
       "      <td>24.599852</td>\n",
       "      <td>26.335454</td>\n",
       "      <td>19.444479</td>\n",
       "      <td>19.116274</td>\n",
       "      <td>21.080171</td>\n",
       "      <td>20.750442</td>\n",
       "      <td>23.791075</td>\n",
       "      <td>23.868874</td>\n",
       "      <td>23.568324</td>\n",
       "      <td>20.619035</td>\n",
       "      <td>26.301516</td>\n",
       "      <td>33.901058</td>\n",
       "    </tr>\n",
       "  </tbody>\n",
       "</table>\n",
       "</div>"
      ],
      "text/plain": [
       "   year  Engineering Sensors 1  Engineering Sensors 2  Engineering Sensors 3  \\\n",
       "0  2014              30.088889              30.333844              25.338442   \n",
       "1  2017              25.751278              24.599852              26.335454   \n",
       "\n",
       "   Engineering Sensors 4  Engineering Sensors 5  Engineering Sensors 6  \\\n",
       "0              19.575351              19.208174              21.200511   \n",
       "1              19.444479              19.116274              21.080171   \n",
       "\n",
       "   Engineering Sensors 7  Engineering Sensors 8  Engineering Sensors 9  \\\n",
       "0              20.897573              23.375862              23.442401   \n",
       "1              20.750442              23.791075              23.868874   \n",
       "\n",
       "   Engineering Sensors 10  Engineering Sensors 11  Engineering Sensors 12  \\\n",
       "0               21.239208               20.373946               25.579949   \n",
       "1               23.568324               20.619035               26.301516   \n",
       "\n",
       "   Engineering Sensors 13  \n",
       "0               33.900000  \n",
       "1               33.901058  "
      ]
     },
     "execution_count": 11,
     "metadata": {},
     "output_type": "execute_result"
    }
   ],
   "source": [
    "temp_df2 = df1[col].groupby(df['year']).mean().reset_index()\n",
    "temp_df2\n",
    "# sns.lineplot(data=temp_df1)"
   ]
  },
  {
   "cell_type": "code",
   "execution_count": null,
   "metadata": {},
   "outputs": [],
   "source": []
  },
  {
   "cell_type": "markdown",
   "metadata": {},
   "source": [
    "# **INSIGHT 2 :**\n",
    "1. Significant average decrease in sensor 1,2 value from 2014 to 2017 by 14%\n",
    "2. Slight average increase in sensor 10 value from 2014 to 2017 by approximate 9 %"
   ]
  },
  {
   "cell_type": "code",
   "execution_count": 14,
   "metadata": {},
   "outputs": [],
   "source": [
    "TOOLS = 'save,pan,box_zoom,reset,wheel_zoom,hover'\n",
    "p = figure(title=\"Year-wise average sensor value\", y_axis_type=\"linear\", plot_height = 400,\n",
    "           tools = TOOLS, plot_width = 500)\n",
    "p.xaxis.axis_label = 'Year'\n",
    "p.yaxis.axis_label = 'Average Sensor Values 1'\n",
    "p.circle(2017, df['Engineering Sensors 1'].min(), size = 10, color = 'red')\n",
    "\n",
    "p.line(df.year, df['Engineering Sensors 1'],line_color=\"purple\", line_width = 3)\n",
    "p.select_one(HoverTool).tooltips = [\n",
    "    ('year', '@x'),\n",
    "    ('Sensor1 value', '@y'),\n",
    "]\n",
    "\n",
    "output_file(\"line_chart.html\", title=\"Line Chart\")\n",
    "show(p)"
   ]
  },
  {
   "cell_type": "code",
   "execution_count": null,
   "metadata": {},
   "outputs": [],
   "source": [
    "# df.columns"
   ]
  },
  {
   "cell_type": "code",
   "execution_count": 15,
   "metadata": {},
   "outputs": [
    {
     "data": {
      "text/html": [
       "<div>\n",
       "<style scoped>\n",
       "    .dataframe tbody tr th:only-of-type {\n",
       "        vertical-align: middle;\n",
       "    }\n",
       "\n",
       "    .dataframe tbody tr th {\n",
       "        vertical-align: top;\n",
       "    }\n",
       "\n",
       "    .dataframe thead th {\n",
       "        text-align: right;\n",
       "    }\n",
       "</style>\n",
       "<table border=\"1\" class=\"dataframe\">\n",
       "  <thead>\n",
       "    <tr style=\"text-align: right;\">\n",
       "      <th></th>\n",
       "      <th>night</th>\n",
       "      <th>Engineering Sensors 1</th>\n",
       "      <th>Engineering Sensors 2</th>\n",
       "      <th>Engineering Sensors 3</th>\n",
       "      <th>Engineering Sensors 4</th>\n",
       "      <th>Engineering Sensors 5</th>\n",
       "      <th>Engineering Sensors 6</th>\n",
       "      <th>Engineering Sensors 7</th>\n",
       "      <th>Engineering Sensors 8</th>\n",
       "      <th>Engineering Sensors 9</th>\n",
       "      <th>Engineering Sensors 10</th>\n",
       "      <th>Engineering Sensors 11</th>\n",
       "      <th>Engineering Sensors 12</th>\n",
       "      <th>Engineering Sensors 13</th>\n",
       "    </tr>\n",
       "  </thead>\n",
       "  <tbody>\n",
       "    <tr>\n",
       "      <th>0</th>\n",
       "      <td>0</td>\n",
       "      <td>25.861414</td>\n",
       "      <td>24.740832</td>\n",
       "      <td>26.305589</td>\n",
       "      <td>19.440820</td>\n",
       "      <td>19.115196</td>\n",
       "      <td>21.085621</td>\n",
       "      <td>20.754233</td>\n",
       "      <td>23.774703</td>\n",
       "      <td>23.852314</td>\n",
       "      <td>23.507815</td>\n",
       "      <td>20.634353</td>\n",
       "      <td>26.277617</td>\n",
       "      <td>33.901030</td>\n",
       "    </tr>\n",
       "    <tr>\n",
       "      <th>1</th>\n",
       "      <td>1</td>\n",
       "      <td>25.689597</td>\n",
       "      <td>24.540653</td>\n",
       "      <td>26.371667</td>\n",
       "      <td>19.476431</td>\n",
       "      <td>19.131486</td>\n",
       "      <td>21.066861</td>\n",
       "      <td>20.748083</td>\n",
       "      <td>23.825208</td>\n",
       "      <td>23.902694</td>\n",
       "      <td>23.608083</td>\n",
       "      <td>20.518194</td>\n",
       "      <td>26.338792</td>\n",
       "      <td>33.901083</td>\n",
       "    </tr>\n",
       "  </tbody>\n",
       "</table>\n",
       "</div>"
      ],
      "text/plain": [
       "   night  Engineering Sensors 1  Engineering Sensors 2  Engineering Sensors 3  \\\n",
       "0      0              25.861414              24.740832              26.305589   \n",
       "1      1              25.689597              24.540653              26.371667   \n",
       "\n",
       "   Engineering Sensors 4  Engineering Sensors 5  Engineering Sensors 6  \\\n",
       "0              19.440820              19.115196              21.085621   \n",
       "1              19.476431              19.131486              21.066861   \n",
       "\n",
       "   Engineering Sensors 7  Engineering Sensors 8  Engineering Sensors 9  \\\n",
       "0              20.754233              23.774703              23.852314   \n",
       "1              20.748083              23.825208              23.902694   \n",
       "\n",
       "   Engineering Sensors 10  Engineering Sensors 11  Engineering Sensors 12  \\\n",
       "0               23.507815               20.634353               26.277617   \n",
       "1               23.608083               20.518194               26.338792   \n",
       "\n",
       "   Engineering Sensors 13  \n",
       "0               33.901030  \n",
       "1               33.901083  "
      ]
     },
     "execution_count": 15,
     "metadata": {},
     "output_type": "execute_result"
    }
   ],
   "source": [
    "temp_df3 = df1[col].groupby(df['night']).mean().reset_index()\n",
    "temp_df3"
   ]
  },
  {
   "cell_type": "code",
   "execution_count": 16,
   "metadata": {},
   "outputs": [
    {
     "data": {
      "image/png": "[encoded data removed]",
      "text/plain": [
       "<Figure size 1152x432 with 1 Axes>"
      ]
     },
     "metadata": {
      "needs_background": "light"
     },
     "output_type": "display_data"
    }
   ],
   "source": [
    "df1[col].groupby(df['night']).mean().plot(kind=\"bar\", figsize=(16,6))\n",
    "\n",
    "y = plt.yticks()[0][:-1]\n",
    "plt.yticks(y, [str(i)[:-2]+\" M\" for i in y])\n",
    "plt.show()"
   ]
  },
  {
   "cell_type": "code",
   "execution_count": 19,
   "metadata": {},
   "outputs": [
    {
     "data": {
      "text/html": [
       "<div>\n",
       "<style scoped>\n",
       "    .dataframe tbody tr th:only-of-type {\n",
       "        vertical-align: middle;\n",
       "    }\n",
       "\n",
       "    .dataframe tbody tr th {\n",
       "        vertical-align: top;\n",
       "    }\n",
       "\n",
       "    .dataframe thead th {\n",
       "        text-align: right;\n",
       "    }\n",
       "</style>\n",
       "<table border=\"1\" class=\"dataframe\">\n",
       "  <thead>\n",
       "    <tr style=\"text-align: right;\">\n",
       "      <th></th>\n",
       "      <th>daylight</th>\n",
       "      <th>Engineering Sensors 1</th>\n",
       "      <th>Engineering Sensors 2</th>\n",
       "      <th>Engineering Sensors 3</th>\n",
       "      <th>Engineering Sensors 4</th>\n",
       "      <th>Engineering Sensors 5</th>\n",
       "      <th>Engineering Sensors 6</th>\n",
       "      <th>Engineering Sensors 7</th>\n",
       "      <th>Engineering Sensors 8</th>\n",
       "      <th>Engineering Sensors 9</th>\n",
       "      <th>Engineering Sensors 10</th>\n",
       "      <th>Engineering Sensors 11</th>\n",
       "      <th>Engineering Sensors 12</th>\n",
       "      <th>Engineering Sensors 13</th>\n",
       "    </tr>\n",
       "  </thead>\n",
       "  <tbody>\n",
       "    <tr>\n",
       "      <th>0</th>\n",
       "      <td>0</td>\n",
       "      <td>25.691900</td>\n",
       "      <td>24.540915</td>\n",
       "      <td>26.364580</td>\n",
       "      <td>19.501894</td>\n",
       "      <td>19.119768</td>\n",
       "      <td>21.054165</td>\n",
       "      <td>20.735273</td>\n",
       "      <td>23.812128</td>\n",
       "      <td>23.891583</td>\n",
       "      <td>23.603005</td>\n",
       "      <td>20.526779</td>\n",
       "      <td>26.338091</td>\n",
       "      <td>33.901034</td>\n",
       "    </tr>\n",
       "    <tr>\n",
       "      <th>1</th>\n",
       "      <td>1</td>\n",
       "      <td>25.939583</td>\n",
       "      <td>24.833763</td>\n",
       "      <td>26.280288</td>\n",
       "      <td>19.404702</td>\n",
       "      <td>19.116615</td>\n",
       "      <td>21.104097</td>\n",
       "      <td>20.766930</td>\n",
       "      <td>23.761249</td>\n",
       "      <td>23.837407</td>\n",
       "      <td>23.465064</td>\n",
       "      <td>20.681805</td>\n",
       "      <td>26.249693</td>\n",
       "      <td>33.901042</td>\n",
       "    </tr>\n",
       "  </tbody>\n",
       "</table>\n",
       "</div>"
      ],
      "text/plain": [
       "   daylight  Engineering Sensors 1  Engineering Sensors 2  \\\n",
       "0         0              25.691900              24.540915   \n",
       "1         1              25.939583              24.833763   \n",
       "\n",
       "   Engineering Sensors 3  Engineering Sensors 4  Engineering Sensors 5  \\\n",
       "0              26.364580              19.501894              19.119768   \n",
       "1              26.280288              19.404702              19.116615   \n",
       "\n",
       "   Engineering Sensors 6  Engineering Sensors 7  Engineering Sensors 8  \\\n",
       "0              21.054165              20.735273              23.812128   \n",
       "1              21.104097              20.766930              23.761249   \n",
       "\n",
       "   Engineering Sensors 9  Engineering Sensors 10  Engineering Sensors 11  \\\n",
       "0              23.891583               23.603005               20.526779   \n",
       "1              23.837407               23.465064               20.681805   \n",
       "\n",
       "   Engineering Sensors 12  Engineering Sensors 13  \n",
       "0               26.338091               33.901034  \n",
       "1               26.249693               33.901042  "
      ]
     },
     "execution_count": 19,
     "metadata": {},
     "output_type": "execute_result"
    }
   ],
   "source": [
    "temp_df4 = df1[col].groupby(df['daylight']).mean().reset_index()\n",
    "temp_df4"
   ]
  },
  {
   "cell_type": "code",
   "execution_count": 18,
   "metadata": {},
   "outputs": [
    {
     "data": {
      "image/png": "[encoded data removed]",
      "text/plain": [
       "<Figure size 1152x432 with 1 Axes>"
      ]
     },
     "metadata": {
      "needs_background": "light"
     },
     "output_type": "display_data"
    }
   ],
   "source": [
    "df1[col].groupby(df['daylight']).mean().plot(kind=\"bar\", figsize=(16,6))\n",
    "\n",
    "y = plt.yticks()[0][:-1]\n",
    "plt.yticks(y, [str(i)[:-2]+\" M\" for i in y])\n",
    "plt.show()"
   ]
  },
  {
   "cell_type": "markdown",
   "metadata": {},
   "source": [
    "# **INSIGHT 3 :**\n",
    "\n",
    "No Significant average changes in all the sensor value in the day and night hours\n"
   ]
  },
  {
   "cell_type": "code",
   "execution_count": 20,
   "metadata": {},
   "outputs": [
    {
     "data": {
      "text/html": [
       "<div>\n",
       "<style scoped>\n",
       "    .dataframe tbody tr th:only-of-type {\n",
       "        vertical-align: middle;\n",
       "    }\n",
       "\n",
       "    .dataframe tbody tr th {\n",
       "        vertical-align: top;\n",
       "    }\n",
       "\n",
       "    .dataframe thead th {\n",
       "        text-align: right;\n",
       "    }\n",
       "</style>\n",
       "<table border=\"1\" class=\"dataframe\">\n",
       "  <thead>\n",
       "    <tr style=\"text-align: right;\">\n",
       "      <th></th>\n",
       "      <th>DayOfTheWeek</th>\n",
       "      <th>Engineering Sensors 1</th>\n",
       "      <th>Engineering Sensors 2</th>\n",
       "      <th>Engineering Sensors 3</th>\n",
       "      <th>Engineering Sensors 4</th>\n",
       "      <th>Engineering Sensors 5</th>\n",
       "      <th>Engineering Sensors 6</th>\n",
       "      <th>Engineering Sensors 7</th>\n",
       "      <th>Engineering Sensors 8</th>\n",
       "      <th>Engineering Sensors 9</th>\n",
       "      <th>Engineering Sensors 10</th>\n",
       "      <th>Engineering Sensors 11</th>\n",
       "      <th>Engineering Sensors 12</th>\n",
       "      <th>Engineering Sensors 13</th>\n",
       "    </tr>\n",
       "  </thead>\n",
       "  <tbody>\n",
       "    <tr>\n",
       "      <th>0</th>\n",
       "      <td>1</td>\n",
       "      <td>25.625683</td>\n",
       "      <td>24.472063</td>\n",
       "      <td>26.250937</td>\n",
       "      <td>19.428714</td>\n",
       "      <td>19.059540</td>\n",
       "      <td>20.989571</td>\n",
       "      <td>20.672460</td>\n",
       "      <td>23.739698</td>\n",
       "      <td>23.812476</td>\n",
       "      <td>23.492302</td>\n",
       "      <td>20.487238</td>\n",
       "      <td>26.154254</td>\n",
       "      <td>33.901222</td>\n",
       "    </tr>\n",
       "    <tr>\n",
       "      <th>1</th>\n",
       "      <td>3</td>\n",
       "      <td>25.715846</td>\n",
       "      <td>24.564234</td>\n",
       "      <td>26.318927</td>\n",
       "      <td>19.415327</td>\n",
       "      <td>19.114046</td>\n",
       "      <td>21.073255</td>\n",
       "      <td>20.738604</td>\n",
       "      <td>23.773244</td>\n",
       "      <td>23.849492</td>\n",
       "      <td>23.544943</td>\n",
       "      <td>20.582553</td>\n",
       "      <td>26.285280</td>\n",
       "      <td>33.901104</td>\n",
       "    </tr>\n",
       "    <tr>\n",
       "      <th>2</th>\n",
       "      <td>4</td>\n",
       "      <td>25.951437</td>\n",
       "      <td>24.799801</td>\n",
       "      <td>26.351705</td>\n",
       "      <td>19.470778</td>\n",
       "      <td>19.114424</td>\n",
       "      <td>21.141030</td>\n",
       "      <td>20.799544</td>\n",
       "      <td>23.797606</td>\n",
       "      <td>23.876664</td>\n",
       "      <td>23.583649</td>\n",
       "      <td>20.883684</td>\n",
       "      <td>26.342350</td>\n",
       "      <td>33.901261</td>\n",
       "    </tr>\n",
       "    <tr>\n",
       "      <th>3</th>\n",
       "      <td>5</td>\n",
       "      <td>25.829625</td>\n",
       "      <td>24.680158</td>\n",
       "      <td>26.372024</td>\n",
       "      <td>19.463787</td>\n",
       "      <td>19.175954</td>\n",
       "      <td>21.137851</td>\n",
       "      <td>20.800642</td>\n",
       "      <td>23.829144</td>\n",
       "      <td>23.908684</td>\n",
       "      <td>23.606370</td>\n",
       "      <td>20.702853</td>\n",
       "      <td>26.350304</td>\n",
       "      <td>33.900676</td>\n",
       "    </tr>\n",
       "    <tr>\n",
       "      <th>4</th>\n",
       "      <td>6</td>\n",
       "      <td>25.975284</td>\n",
       "      <td>24.939913</td>\n",
       "      <td>26.276356</td>\n",
       "      <td>19.452128</td>\n",
       "      <td>19.110379</td>\n",
       "      <td>21.048658</td>\n",
       "      <td>20.735063</td>\n",
       "      <td>23.766858</td>\n",
       "      <td>23.845813</td>\n",
       "      <td>23.398918</td>\n",
       "      <td>20.403736</td>\n",
       "      <td>26.273321</td>\n",
       "      <td>33.900987</td>\n",
       "    </tr>\n",
       "  </tbody>\n",
       "</table>\n",
       "</div>"
      ],
      "text/plain": [
       "   DayOfTheWeek  Engineering Sensors 1  Engineering Sensors 2  \\\n",
       "0             1              25.625683              24.472063   \n",
       "1             3              25.715846              24.564234   \n",
       "2             4              25.951437              24.799801   \n",
       "3             5              25.829625              24.680158   \n",
       "4             6              25.975284              24.939913   \n",
       "\n",
       "   Engineering Sensors 3  Engineering Sensors 4  Engineering Sensors 5  \\\n",
       "0              26.250937              19.428714              19.059540   \n",
       "1              26.318927              19.415327              19.114046   \n",
       "2              26.351705              19.470778              19.114424   \n",
       "3              26.372024              19.463787              19.175954   \n",
       "4              26.276356              19.452128              19.110379   \n",
       "\n",
       "   Engineering Sensors 6  Engineering Sensors 7  Engineering Sensors 8  \\\n",
       "0              20.989571              20.672460              23.739698   \n",
       "1              21.073255              20.738604              23.773244   \n",
       "2              21.141030              20.799544              23.797606   \n",
       "3              21.137851              20.800642              23.829144   \n",
       "4              21.048658              20.735063              23.766858   \n",
       "\n",
       "   Engineering Sensors 9  Engineering Sensors 10  Engineering Sensors 11  \\\n",
       "0              23.812476               23.492302               20.487238   \n",
       "1              23.849492               23.544943               20.582553   \n",
       "2              23.876664               23.583649               20.883684   \n",
       "3              23.908684               23.606370               20.702853   \n",
       "4              23.845813               23.398918               20.403736   \n",
       "\n",
       "   Engineering Sensors 12  Engineering Sensors 13  \n",
       "0               26.154254               33.901222  \n",
       "1               26.285280               33.901104  \n",
       "2               26.342350               33.901261  \n",
       "3               26.350304               33.900676  \n",
       "4               26.273321               33.900987  "
      ]
     },
     "execution_count": 20,
     "metadata": {},
     "output_type": "execute_result"
    }
   ],
   "source": [
    "temp_df5 = df1[col].groupby(df['DayOfTheWeek']).mean().reset_index()\n",
    "temp_df5"
   ]
  },
  {
   "cell_type": "code",
   "execution_count": 21,
   "metadata": {},
   "outputs": [
    {
     "data": {
      "image/png": "[encoded data removed]",
      "text/plain": [
       "<Figure size 1152x432 with 1 Axes>"
      ]
     },
     "metadata": {
      "needs_background": "light"
     },
     "output_type": "display_data"
    }
   ],
   "source": [
    "df1[col].groupby(df['DayOfTheWeek']).mean().plot(kind=\"bar\", figsize=(16,6))\n",
    "\n",
    "y = plt.yticks()[0][:-1]\n",
    "plt.yticks(y, [str(i)[:-2]+\" M\" for i in y])\n",
    "plt.show()"
   ]
  },
  {
   "cell_type": "markdown",
   "metadata": {},
   "source": [
    "# **INSIGHT 4 :**\n",
    "1. Slight variations in average sensor 1 values on weekly basis\n",
    "2. No major variations in average sensor values for other 12 sensors on weekly basis"
   ]
  },
  {
   "cell_type": "code",
   "execution_count": 22,
   "metadata": {},
   "outputs": [
    {
     "data": {
      "text/html": [
       "<div>\n",
       "<style scoped>\n",
       "    .dataframe tbody tr th:only-of-type {\n",
       "        vertical-align: middle;\n",
       "    }\n",
       "\n",
       "    .dataframe tbody tr th {\n",
       "        vertical-align: top;\n",
       "    }\n",
       "\n",
       "    .dataframe thead th {\n",
       "        text-align: right;\n",
       "    }\n",
       "</style>\n",
       "<table border=\"1\" class=\"dataframe\">\n",
       "  <thead>\n",
       "    <tr style=\"text-align: right;\">\n",
       "      <th></th>\n",
       "      <th>quarter</th>\n",
       "      <th>Engineering Sensors 1</th>\n",
       "      <th>Engineering Sensors 2</th>\n",
       "      <th>Engineering Sensors 3</th>\n",
       "      <th>Engineering Sensors 4</th>\n",
       "      <th>Engineering Sensors 5</th>\n",
       "      <th>Engineering Sensors 6</th>\n",
       "      <th>Engineering Sensors 7</th>\n",
       "      <th>Engineering Sensors 8</th>\n",
       "      <th>Engineering Sensors 9</th>\n",
       "      <th>Engineering Sensors 10</th>\n",
       "      <th>Engineering Sensors 11</th>\n",
       "      <th>Engineering Sensors 12</th>\n",
       "      <th>Engineering Sensors 13</th>\n",
       "    </tr>\n",
       "  </thead>\n",
       "  <tbody>\n",
       "    <tr>\n",
       "      <th>0</th>\n",
       "      <td>2</td>\n",
       "      <td>25.715846</td>\n",
       "      <td>24.564234</td>\n",
       "      <td>26.318927</td>\n",
       "      <td>19.415327</td>\n",
       "      <td>19.114046</td>\n",
       "      <td>21.073255</td>\n",
       "      <td>20.738604</td>\n",
       "      <td>23.773244</td>\n",
       "      <td>23.849492</td>\n",
       "      <td>23.544943</td>\n",
       "      <td>20.582553</td>\n",
       "      <td>26.285280</td>\n",
       "      <td>33.901104</td>\n",
       "    </tr>\n",
       "    <tr>\n",
       "      <th>1</th>\n",
       "      <td>3</td>\n",
       "      <td>25.956527</td>\n",
       "      <td>24.850021</td>\n",
       "      <td>26.300386</td>\n",
       "      <td>19.460761</td>\n",
       "      <td>19.125285</td>\n",
       "      <td>21.102654</td>\n",
       "      <td>20.770239</td>\n",
       "      <td>23.780385</td>\n",
       "      <td>23.857590</td>\n",
       "      <td>23.492861</td>\n",
       "      <td>20.700078</td>\n",
       "      <td>26.272089</td>\n",
       "      <td>33.901001</td>\n",
       "    </tr>\n",
       "    <tr>\n",
       "      <th>2</th>\n",
       "      <td>4</td>\n",
       "      <td>25.602488</td>\n",
       "      <td>24.451088</td>\n",
       "      <td>26.361354</td>\n",
       "      <td>19.440961</td>\n",
       "      <td>19.101516</td>\n",
       "      <td>21.034896</td>\n",
       "      <td>20.720336</td>\n",
       "      <td>23.802292</td>\n",
       "      <td>23.882373</td>\n",
       "      <td>23.594641</td>\n",
       "      <td>20.406435</td>\n",
       "      <td>26.336157</td>\n",
       "      <td>33.901076</td>\n",
       "    </tr>\n",
       "  </tbody>\n",
       "</table>\n",
       "</div>"
      ],
      "text/plain": [
       "   quarter  Engineering Sensors 1  Engineering Sensors 2  \\\n",
       "0        2              25.715846              24.564234   \n",
       "1        3              25.956527              24.850021   \n",
       "2        4              25.602488              24.451088   \n",
       "\n",
       "   Engineering Sensors 3  Engineering Sensors 4  Engineering Sensors 5  \\\n",
       "0              26.318927              19.415327              19.114046   \n",
       "1              26.300386              19.460761              19.125285   \n",
       "2              26.361354              19.440961              19.101516   \n",
       "\n",
       "   Engineering Sensors 6  Engineering Sensors 7  Engineering Sensors 8  \\\n",
       "0              21.073255              20.738604              23.773244   \n",
       "1              21.102654              20.770239              23.780385   \n",
       "2              21.034896              20.720336              23.802292   \n",
       "\n",
       "   Engineering Sensors 9  Engineering Sensors 10  Engineering Sensors 11  \\\n",
       "0              23.849492               23.544943               20.582553   \n",
       "1              23.857590               23.492861               20.700078   \n",
       "2              23.882373               23.594641               20.406435   \n",
       "\n",
       "   Engineering Sensors 12  Engineering Sensors 13  \n",
       "0               26.285280               33.901104  \n",
       "1               26.272089               33.901001  \n",
       "2               26.336157               33.901076  "
      ]
     },
     "execution_count": 22,
     "metadata": {},
     "output_type": "execute_result"
    }
   ],
   "source": [
    "temp_df6 = df1[col].groupby(df['quarter']).mean().reset_index()\n",
    "temp_df6\n"
   ]
  },
  {
   "cell_type": "code",
   "execution_count": 23,
   "metadata": {},
   "outputs": [
    {
     "data": {
      "image/png": "[encoded data removed]",
      "text/plain": [
       "<Figure size 1152x432 with 1 Axes>"
      ]
     },
     "metadata": {
      "needs_background": "light"
     },
     "output_type": "display_data"
    }
   ],
   "source": [
    "df1[col].groupby(df['quarter']).mean().plot(kind=\"bar\", figsize=(16,6))\n",
    "\n",
    "y = plt.yticks()[0][:-1]\n",
    "plt.yticks(y, [str(i)[:-2]+\" M\" for i in y])\n",
    "plt.show()"
   ]
  },
  {
   "cell_type": "code",
   "execution_count": 24,
   "metadata": {},
   "outputs": [
    {
     "data": {
      "image/png": "[encoded data removed]",
      "text/plain": [
       "<Figure size 432x288 with 1 Axes>"
      ]
     },
     "metadata": {
      "needs_background": "light"
     },
     "output_type": "display_data"
    }
   ],
   "source": [
    "from pandas.plotting import lag_plot\n",
    "series = df1['Engineering Sensors 6']\n",
    "lag_plot(series)\n",
    "plt.show()"
   ]
  },
  {
   "cell_type": "code",
   "execution_count": 25,
   "metadata": {},
   "outputs": [
    {
     "data": {
      "image/png": "[encoded data removed]",
      "text/plain": [
       "<Figure size 432x288 with 1 Axes>"
      ]
     },
     "metadata": {
      "needs_background": "light"
     },
     "output_type": "display_data"
    }
   ],
   "source": [
    "series = df1['Engineering Sensors 7']\n",
    "lag_plot(series)\n",
    "plt.show()"
   ]
  },
  {
   "cell_type": "code",
   "execution_count": 26,
   "metadata": {},
   "outputs": [
    {
     "data": {
      "image/png": "[encoded data removed]",
      "text/plain": [
       "<Figure size 432x288 with 1 Axes>"
      ]
     },
     "metadata": {
      "needs_background": "light"
     },
     "output_type": "display_data"
    }
   ],
   "source": [
    "series = df1['Engineering Sensors 11']\n",
    "lag_plot(series)\n",
    "plt.show()"
   ]
  },
  {
   "cell_type": "code",
   "execution_count": 27,
   "metadata": {},
   "outputs": [
    {
     "data": {
      "image/png": "[encoded data removed]",
      "text/plain": [
       "<Figure size 432x288 with 1 Axes>"
      ]
     },
     "metadata": {
      "needs_background": "light"
     },
     "output_type": "display_data"
    }
   ],
   "source": [
    "series = df1['Engineering Sensors 4']\n",
    "lag_plot(series)\n",
    "plt.show()"
   ]
  },
  {
   "cell_type": "markdown",
   "metadata": {},
   "source": [
    "# **INSIGHT 5 :**\n",
    "\n",
    "6,7 relatively strong positive correlation between observations and their lag1 values.\n",
    "11,4  highly uncorrelated"
   ]
  },
  {
   "cell_type": "code",
   "execution_count": 28,
   "metadata": {},
   "outputs": [
    {
     "data": {
      "image/png": "[encoded data removed]",
      "text/plain": [
       "<Figure size 432x288 with 1 Axes>"
      ]
     },
     "metadata": {
      "needs_background": "light"
     },
     "output_type": "display_data"
    }
   ],
   "source": [
    "# create an autocorrelation plot\n",
    "from pandas.plotting import autocorrelation_plot\n",
    "series = df1['Engineering Sensors 1']\n",
    "\n",
    "autocorrelation_plot(series)\n",
    "plt.show()"
   ]
  },
  {
   "cell_type": "code",
   "execution_count": 31,
   "metadata": {},
   "outputs": [
    {
     "data": {
      "image/png": "[encoded data removed]",
      "text/plain": [
       "<Figure size 432x288 with 1 Axes>"
      ]
     },
     "metadata": {
      "needs_background": "light"
     },
     "output_type": "display_data"
    }
   ],
   "source": [
    "# create an autocorrelation plot\n",
    "from pandas.plotting import autocorrelation_plot\n",
    "series = df1['Engineering Sensors 3']\n",
    "\n",
    "autocorrelation_plot(series)\n",
    "plt.show()"
   ]
  },
  {
   "cell_type": "code",
   "execution_count": 29,
   "metadata": {},
   "outputs": [
    {
     "data": {
      "image/png": "[encoded data removed]",
      "text/plain": [
       "<Figure size 432x288 with 1 Axes>"
      ]
     },
     "metadata": {
      "needs_background": "light"
     },
     "output_type": "display_data"
    }
   ],
   "source": [
    "# create an autocorrelation plot\n",
    "from pandas.plotting import autocorrelation_plot\n",
    "series = df1['Engineering Sensors 4']\n",
    "\n",
    "autocorrelation_plot(series)\n",
    "plt.show()"
   ]
  },
  {
   "cell_type": "code",
   "execution_count": 30,
   "metadata": {},
   "outputs": [
    {
     "data": {
      "image/png": "[encoded data removed]",
      "text/plain": [
       "<Figure size 432x288 with 1 Axes>"
      ]
     },
     "metadata": {
      "needs_background": "light"
     },
     "output_type": "display_data"
    }
   ],
   "source": [
    "# create an autocorrelation plot\n",
    "from pandas.plotting import autocorrelation_plot\n",
    "series = df1['Engineering Sensors 13']\n",
    "\n",
    "autocorrelation_plot(series)\n",
    "plt.show()"
   ]
  },
  {
   "cell_type": "markdown",
   "metadata": {},
   "source": [
    "# **INSIGHT 6 :**\n",
    "1. The resulting plot shows lag along the x-axis and the correlation on the y-axis. Dotted lines are provided that indicate any correlation values above those lines are statistically significant (meaningful).\n",
    "2. sensors 1,2,3,10 show few strong positive corelations\n",
    "3. sensor 4,5 doesnt show much autocorellation"
   ]
  },
  {
   "cell_type": "code",
   "execution_count": null,
   "metadata": {},
   "outputs": [],
   "source": []
  }
 ],
 "metadata": {
  "kernelspec": {
   "display_name": "Python 3",
   "language": "python",
   "name": "python3"
  },
  "language_info": {
   "codemirror_mode": {
    "name": "ipython",
    "version": 3
   },
   "file_extension": ".py",
   "mimetype": "text/x-python",
   "name": "python",
   "nbconvert_exporter": "python",
   "pygments_lexer": "ipython3",
   "version": "3.7.6"
  }
 },
 "nbformat": 4,
 "nbformat_minor": 4
}
